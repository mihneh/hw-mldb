{
 "cells": [
  {
   "cell_type": "markdown",
   "id": "4e2ed821-77f8-4ea0-9bce-d3c8e8a0a4f5",
   "metadata": {},
   "source": [
    "### Лабораторная работа # 1"
   ]
  },
  {
   "cell_type": "code",
   "execution_count": 3,
   "id": "678a44b6-2885-411c-9c6e-a6fd6d66a351",
   "metadata": {},
   "outputs": [],
   "source": [
    "import findspark"
   ]
  },
  {
   "cell_type": "code",
   "execution_count": 4,
   "id": "4a9821b5-2277-47fc-b324-ea91782d6505",
   "metadata": {},
   "outputs": [],
   "source": [
    "findspark.init('C:\\\\spark\\\\spark-3.3.1-bin-hadoop2\\\\')\n",
    "# findspark.init('C:\\\\spark\\\\spark-3.0.0-bin-hadoop2.7\\\\')"
   ]
  },
  {
   "cell_type": "code",
   "execution_count": 5,
   "id": "4f414820-76f7-4c27-87fe-35c2e90dc674",
   "metadata": {},
   "outputs": [
    {
     "data": {
      "text/plain": [
       "'3.3.1'"
      ]
     },
     "execution_count": 5,
     "metadata": {},
     "output_type": "execute_result"
    }
   ],
   "source": [
    "import pyspark\n",
    "pyspark.__version__"
   ]
  },
  {
   "cell_type": "code",
   "execution_count": 6,
   "id": "94b1f254-b86e-4311-9b92-a1d8158a06fc",
   "metadata": {},
   "outputs": [
    {
     "name": "stdout",
     "output_type": "stream",
     "text": [
      "3.8.20 (default, Oct  3 2024, 15:19:54) [MSC v.1929 64 bit (AMD64)]\n"
     ]
    }
   ],
   "source": [
    "import sys\n",
    "print(sys.version)"
   ]
  },
  {
   "cell_type": "code",
   "execution_count": 7,
   "id": "8e09c52e-302c-4ea0-9774-f1a5a67080f9",
   "metadata": {},
   "outputs": [],
   "source": [
    "from pyspark.sql import SparkSession\n",
    "from pyspark.sql.types import StructType, StructField, StringType, IntegerType, DoubleType, LongType"
   ]
  },
  {
   "cell_type": "code",
   "execution_count": 8,
   "id": "82285dc8-9164-460e-b5f1-a799f4b7f64d",
   "metadata": {},
   "outputs": [
    {
     "name": "stdout",
     "output_type": "stream",
     "text": [
      "C:\\java\\jdk\n",
      "C:\\spark\\spark-3.3.1-bin-hadoop2\n",
      "C:\\hadoop\n"
     ]
    }
   ],
   "source": [
    "import os\n",
    "# os.environ['JAVA_HOME'] = 'C:\\\\java\\\\jdk-11.0.2'\n",
    "os.environ['JAVA_HOME'] = 'C:\\\\java\\\\jdk'\n",
    "os.environ['PATH'] = os.environ['JAVA_HOME'] + '\\\\bin;' + os.environ['PATH']\n",
    "os.environ['SPARK_HOME'] = 'C:\\\\spark\\\\spark-3.3.1-bin-hadoop2'\n",
    "os.environ['HADOOP_HOME'] = 'C:\\\\hadoop'\n",
    "os.environ['PATH'] = os.environ['SPARK_HOME'] + '\\\\bin;' + os.environ['PATH']\n",
    "os.environ['PATH'] = os.environ['HADOOP_HOME'] + '\\\\bin;' + os.environ['PATH']\n",
    "\n",
    "print(os.environ['JAVA_HOME'])\n",
    "print(os.environ['SPARK_HOME'])\n",
    "print(os.environ['HADOOP_HOME'])"
   ]
  },
  {
   "cell_type": "code",
   "execution_count": 7,
   "id": "09bc2b6f-f748-4e5e-979e-fb21a0d1d43f",
   "metadata": {},
   "outputs": [],
   "source": [
    "spark = SparkSession.builder.master(\"local[*]\").appName(\"CreateMenuAndCafes\").getOrCreate()"
   ]
  },
  {
   "cell_type": "markdown",
   "id": "5edad34b-d47c-4f65-b83f-dbe9ffb23117",
   "metadata": {},
   "source": [
    "### 1.1 Создание и сохранение меню с ценами:"
   ]
  },
  {
   "cell_type": "code",
   "execution_count": 8,
   "id": "5184da70-f5dd-4b00-b835-f76c867e0b64",
   "metadata": {},
   "outputs": [],
   "source": [
    "# Определение данных для меню\n",
    "menu_items = [\n",
    "    (\"Chicken Salad\", 300),\n",
    "    (\"Burger\", 350),\n",
    "    (\"Lemon cake\", 200),\n",
    "    (\"Pasta\", 550),\n",
    "    (\"Pizza\", 600),\n",
    "    (\"Cup of tea\", 120),\n",
    "    (\"Sushi\", 700),\n",
    "    (\"Summer salad\", 200),\n",
    "    (\"Latte\", 170),\n",
    "    (\"Cup of coffee\", 150),\n",
    "    (\"Beer\", 300),\n",
    "    (\"Classic lasagna\", 500),\n",
    "    (\"Grilled ribs\", 650),\n",
    "    (\"French fries\", 250),\n",
    "    (\"Baked fish\", 480),\n",
    "    (\"Beefeater gin\", 280),\n",
    "    (\"Grilled vegetables\", 290),\n",
    "    (\"Lula kebab\", 260),\n",
    "    (\"Apple juice\", 110),\n",
    "    (\"Chicken soup\", 320)\n",
    "]"
   ]
  },
  {
   "cell_type": "code",
   "execution_count": 9,
   "id": "4f498a9e-3c8e-49b1-b406-af3bfba80a8e",
   "metadata": {},
   "outputs": [],
   "source": [
    "# Определение схемы для меню\n",
    "menu_schema = StructType([\n",
    "    StructField(\"menu_item\", StringType(), True),\n",
    "    StructField(\"price\", IntegerType(), True)\n",
    "])"
   ]
  },
  {
   "cell_type": "code",
   "execution_count": 10,
   "id": "4f78b797-6735-4630-a9f7-5497981d2ce1",
   "metadata": {},
   "outputs": [],
   "source": [
    "# Создание DataFrame для меню\n",
    "menu_df = spark.createDataFrame(menu_items, schema=menu_schema)"
   ]
  },
  {
   "cell_type": "code",
   "execution_count": 11,
   "id": "ee63bc7c-ce72-49e4-b72b-d2a0e3e2f278",
   "metadata": {},
   "outputs": [
    {
     "name": "stdout",
     "output_type": "stream",
     "text": [
      "Menu DataFrame:\n",
      "+------------------+-----+\n",
      "|menu_item         |price|\n",
      "+------------------+-----+\n",
      "|Chicken Salad     |300  |\n",
      "|Burger            |350  |\n",
      "|Lemon cake        |200  |\n",
      "|Pasta             |550  |\n",
      "|Pizza             |600  |\n",
      "|Cup of tea        |120  |\n",
      "|Sushi             |700  |\n",
      "|Summer salad      |200  |\n",
      "|Latte             |170  |\n",
      "|Cup of coffee     |150  |\n",
      "|Beer              |300  |\n",
      "|Classic lasagna   |500  |\n",
      "|Grilled ribs      |650  |\n",
      "|French fries      |250  |\n",
      "|Baked fish        |480  |\n",
      "|Beefeater gin     |280  |\n",
      "|Grilled vegetables|290  |\n",
      "|Lula kebab        |260  |\n",
      "|Apple juice       |110  |\n",
      "|Chicken soup      |320  |\n",
      "+------------------+-----+\n",
      "\n"
     ]
    }
   ],
   "source": [
    "print(\"Menu DataFrame:\")\n",
    "menu_df.show(truncate=False)"
   ]
  },
  {
   "cell_type": "code",
   "execution_count": 12,
   "id": "e1fdc1fc-4a37-4214-82c7-2cccc9460899",
   "metadata": {},
   "outputs": [],
   "source": [
    "# Сохранение DataFrame меню в CSV\n",
    "menu_df.write.csv('menu_items.csv', header=True, mode=\"overwrite\")"
   ]
  },
  {
   "cell_type": "code",
   "execution_count": 13,
   "id": "2faa6d7e-c008-4eae-bcb2-25ecc0a3360b",
   "metadata": {},
   "outputs": [
    {
     "name": "stdout",
     "output_type": "stream",
     "text": [
      "root\n",
      " |-- menu_item: string (nullable = true)\n",
      " |-- price: integer (nullable = true)\n",
      "\n"
     ]
    }
   ],
   "source": [
    "# Проверка схемы\n",
    "menu_df.printSchema()"
   ]
  },
  {
   "cell_type": "markdown",
   "id": "d1e46f63-f1ab-4461-8896-189f4264614e",
   "metadata": {},
   "source": [
    "### 1.2 Создание и сохранение кафе с координатами:"
   ]
  },
  {
   "cell_type": "code",
   "execution_count": 14,
   "id": "5a826d6e-4b0a-41fd-a452-d4a25844190c",
   "metadata": {},
   "outputs": [],
   "source": [
    "from pyspark.sql.types import FloatType\n",
    "\n",
    "# Данные для городов и кафе с координатами\n",
    "cafes = [\n",
    "    (\"Saint Petersburg\", \"Toscana grill\", 59.925540, 30.313784),\n",
    "    (\"Saint Petersburg\", \"Palermo\", 59.930497, 30.341417),\n",
    "    (\"Saint Petersburg\", \"Hunt\", 59.929197, 30.343874),\n",
    "    (\"Moscow\", \"True Cost\", 55.753196, 37.634998),\n",
    "    (\"Moscow\", \"J'pan\", 55.754481, 37.637420),\n",
    "    (\"Moscow\", \"Lauren Parker\", 55.744983, 37.661365),\n",
    "    (\"Kazan\", \"Guru\", 55.791737, 49.137439),\n",
    "    (\"Kazan\", \"Leto\", 55.799783, 49.151208),\n",
    "    (\"Kazan\", \"5 Green Bottles\", 55.796988, 49.181225),\n",
    "    (\"Novosibirsk\", \"Beerfactory\", 55.022491, 82.923117),\n",
    "    (\"Novosibirsk\", \"I dolci\", 55.019978, 82.931709),\n",
    "    (\"Novosibirsk\", \"Cuba\", 55.016656, 82.939158),\n",
    "    (\"Ekaterinburg\", \"Don Fun\", 56.829714, 60.593745),\n",
    "    (\"Ekaterinburg\", \"The Barbara\", 56.843540, 60.590836),\n",
    "    (\"Ekaterinburg\", \"EverJazz\", 56.843261, 60.615235),\n",
    "    (\"Nizhny Novgorod\", \"Mukka\", 56.319159, 44.010391),\n",
    "    (\"Nizhny Novgorod\", \"Mir Mir\", 56.319185, 44.002597),\n",
    "    (\"Nizhny Novgorod\", \"Dodici Grill\", 56.322236, 44.003440),\n",
    "    (\"Chelyabinsk\", \"Hugs\", 55.157166, 61.368560),\n",
    "    (\"Chelyabinsk\", \"Belochka\", 55.155684, 61.365306),\n",
    "    (\"Chelyabinsk\", \"Stories\", 55.160174, 61.373781),\n",
    "    (\"Krasnoyarsk\", \"Villa Roberto\", 56.010254, 92.877014),\n",
    "    (\"Krasnoyarsk\", \"Oliv'e\", 56.009085, 92.876605),\n",
    "    (\"Krasnoyarsk\", \"Mike&Molly\", 56.011998, 92.858881),\n",
    "    (\"Omsk\", \"Base\", 54.990717, 73.363829),\n",
    "    (\"Omsk\", \"Santino\", 54.991327, 73.361246),\n",
    "    (\"Omsk\", \"Malibu\", 54.994935, 73.365421),\n",
    "    (\"Ufa\", \"BeerBerry\", 54.759906, 56.017345),\n",
    "    (\"Ufa\", \"FARFOR\", 54.706299, 55.997813),\n",
    "    (\"Ufa\", \"Leto\", 54.692588, 56.004523)\n",
    "]"
   ]
  },
  {
   "cell_type": "code",
   "execution_count": 15,
   "id": "c7f2a570-83e0-4192-a13b-65497f72ec3e",
   "metadata": {},
   "outputs": [],
   "source": [
    "# Определение схемы для кафе\n",
    "cafes_schema = StructType([\n",
    "    StructField(\"city\", StringType(), True),\n",
    "    StructField(\"facility_name\", StringType(), True),\n",
    "    StructField(\"lat\", FloatType(), True),\n",
    "    StructField(\"lng\", FloatType(), True)\n",
    "])"
   ]
  },
  {
   "cell_type": "code",
   "execution_count": 16,
   "id": "ae65ea5f-822d-4255-88a3-7d5541a5b5d8",
   "metadata": {},
   "outputs": [],
   "source": [
    "# Создание DataFrame для кафе\n",
    "cafes_df = spark.createDataFrame(cafes, schema=cafes_schema)"
   ]
  },
  {
   "cell_type": "code",
   "execution_count": 17,
   "id": "1ff1061c-dd46-486c-a2f4-ac34f07b502f",
   "metadata": {},
   "outputs": [],
   "source": [
    "from pyspark.sql.functions import expr\n",
    "# Добавление колонки \"country\"\n",
    "cafes_df = cafes_df.withColumn(\"country\", expr(\"'Russia'\"))"
   ]
  },
  {
   "cell_type": "code",
   "execution_count": 18,
   "id": "5cdfb555-e3c4-4a8e-9f69-9b42e8e0980a",
   "metadata": {},
   "outputs": [],
   "source": [
    "# Перестановка колонок как в примере из .doc файла\n",
    "cafes_df = cafes_df.select(\"city\", \"country\", \"facility_name\", \"lat\", \"lng\")"
   ]
  },
  {
   "cell_type": "code",
   "execution_count": 19,
   "id": "bd0afa3f-45a2-4ba6-8e7d-ee7c50f3ebe8",
   "metadata": {},
   "outputs": [
    {
     "name": "stdout",
     "output_type": "stream",
     "text": [
      "Cafes DataFrame:\n",
      "+----------------+-------+---------------+---------+---------+\n",
      "|city            |country|facility_name  |lat      |lng      |\n",
      "+----------------+-------+---------------+---------+---------+\n",
      "|Saint Petersburg|Russia |Toscana grill  |59.92554 |30.313784|\n",
      "|Saint Petersburg|Russia |Palermo        |59.930496|30.341417|\n",
      "|Saint Petersburg|Russia |Hunt           |59.929195|30.343874|\n",
      "|Moscow          |Russia |True Cost      |55.753197|37.635   |\n",
      "|Moscow          |Russia |J'pan          |55.754482|37.63742 |\n",
      "|Moscow          |Russia |Lauren Parker  |55.744984|37.661366|\n",
      "|Kazan           |Russia |Guru           |55.791737|49.13744 |\n",
      "|Kazan           |Russia |Leto           |55.79978 |49.151207|\n",
      "|Kazan           |Russia |5 Green Bottles|55.79699 |49.181225|\n",
      "|Novosibirsk     |Russia |Beerfactory    |55.02249 |82.92312 |\n",
      "|Novosibirsk     |Russia |I dolci        |55.019978|82.93171 |\n",
      "|Novosibirsk     |Russia |Cuba           |55.016655|82.939156|\n",
      "|Ekaterinburg    |Russia |Don Fun        |56.829716|60.593746|\n",
      "|Ekaterinburg    |Russia |The Barbara    |56.84354 |60.590836|\n",
      "|Ekaterinburg    |Russia |EverJazz       |56.84326 |60.615234|\n",
      "|Nizhny Novgorod |Russia |Mukka          |56.31916 |44.01039 |\n",
      "|Nizhny Novgorod |Russia |Mir Mir        |56.319183|44.002598|\n",
      "|Nizhny Novgorod |Russia |Dodici Grill   |56.322235|44.00344 |\n",
      "|Chelyabinsk     |Russia |Hugs           |55.157166|61.36856 |\n",
      "|Chelyabinsk     |Russia |Belochka       |55.155685|61.365307|\n",
      "+----------------+-------+---------------+---------+---------+\n",
      "only showing top 20 rows\n",
      "\n"
     ]
    }
   ],
   "source": [
    "# Визуализация DataFrame кафе\n",
    "print(\"Cafes DataFrame:\")\n",
    "cafes_df.show(truncate=False)"
   ]
  },
  {
   "cell_type": "code",
   "execution_count": 20,
   "id": "8333dd11-5293-4a5c-a107-e0e0f796ef55",
   "metadata": {},
   "outputs": [],
   "source": [
    "# Сохранение DataFrame кафе в CSV\n",
    "cafes_df.write.csv('cafes.csv', header=True, mode=\"overwrite\")"
   ]
  },
  {
   "cell_type": "code",
   "execution_count": 21,
   "id": "22ce66fb-2876-45a0-95e7-c32191c5cd81",
   "metadata": {},
   "outputs": [
    {
     "name": "stdout",
     "output_type": "stream",
     "text": [
      "root\n",
      " |-- city: string (nullable = true)\n",
      " |-- country: string (nullable = false)\n",
      " |-- facility_name: string (nullable = true)\n",
      " |-- lat: float (nullable = true)\n",
      " |-- lng: float (nullable = true)\n",
      "\n"
     ]
    }
   ],
   "source": [
    "# Проверка схемы\n",
    "cafes_df.printSchema()"
   ]
  },
  {
   "cell_type": "code",
   "execution_count": 68,
   "id": "d6be01c4-e10f-442d-9952-c8dbf18e7c65",
   "metadata": {},
   "outputs": [],
   "source": [
    "# Остановка Spark\n",
    "spark.stop()"
   ]
  },
  {
   "cell_type": "markdown",
   "id": "ffd74cea-68ef-4f75-8521-97e193e5ec76",
   "metadata": {},
   "source": [
    "### 1.3 Генерация заказы по заданию"
   ]
  },
  {
   "cell_type": "code",
   "execution_count": 24,
   "id": "3cda5f07-e0c3-4ab4-b61c-15a3b8c9f0dd",
   "metadata": {},
   "outputs": [],
   "source": [
    "from pyspark.sql.functions import col, expr, rand, when, explode, array, array_repeat, floor, from_unixtime, unix_timestamp\n",
    "from pyspark.sql.types import StructType, StructField, StringType, TimestampType, IntegerType, FloatType\n",
    "from pyspark.sql.window import Window\n",
    "from pyspark.sql.functions import row_number\n",
    "import random\n",
    "from datetime import datetime"
   ]
  },
  {
   "cell_type": "code",
   "execution_count": 70,
   "id": "8a65f4bb-9751-4c08-9a43-b6039311a677",
   "metadata": {},
   "outputs": [],
   "source": [
    "findspark.init('C:\\\\spark\\\\spark-3.3.1-bin-hadoop2\\\\')\n",
    "spark = SparkSession.builder.master(\"local[*]\") \\\n",
    "                 .appName(\"Lab1\") \\\n",
    "                 .config(\"spark.jars.packages\", \"org.apache.spark:spark-avro_2.12:3.3.1\") \\\n",
    "                 .getOrCreate()"
   ]
  },
  {
   "cell_type": "code",
   "execution_count": 25,
   "id": "50f0c75f-f91e-4e56-8027-d52103a8c45f",
   "metadata": {},
   "outputs": [],
   "source": [
    "# Загрузка данных из CSV файлов\n",
    "menu_df = spark.read.csv(\"menu_items.csv\", header=True, inferSchema=True)\n",
    "cafes_df = spark.read.csv(\"cafes.csv\", header=True, inferSchema=True)"
   ]
  },
  {
   "cell_type": "code",
   "execution_count": 26,
   "id": "e2ba6bdc-941f-4021-b44e-8ceee4984ec0",
   "metadata": {},
   "outputs": [],
   "source": [
    "# Создание окна для нумерации строк\n",
    "window_spec = Window.orderBy(\"facility_name\")\n",
    "\n",
    "# Присвоение уникальных идентификаторов для ресторанов\n",
    "cafes_df = cafes_df.withColumn(\"rest_id\", row_number().over(window_spec))\n",
    "\n",
    "# Присвоение уникальных идентификаторов для меню\n",
    "window_spec_menu = Window.orderBy(\"menu_item\")\n",
    "menu_df = menu_df.withColumn(\"menu_id\", row_number().over(window_spec_menu))"
   ]
  },
  {
   "cell_type": "code",
   "execution_count": 27,
   "id": "47f61d13-0c12-4324-817a-48ae3261e653",
   "metadata": {},
   "outputs": [
    {
     "name": "stdout",
     "output_type": "stream",
     "text": [
      "Schema for cafes:\n",
      "root\n",
      " |-- city: string (nullable = true)\n",
      " |-- country: string (nullable = true)\n",
      " |-- facility_name: string (nullable = true)\n",
      " |-- lat: double (nullable = true)\n",
      " |-- lng: double (nullable = true)\n",
      " |-- rest_id: integer (nullable = false)\n",
      "\n",
      "Schema for menu items:\n",
      "root\n",
      " |-- menu_item: string (nullable = true)\n",
      " |-- price: integer (nullable = true)\n",
      " |-- menu_id: integer (nullable = false)\n",
      "\n"
     ]
    }
   ],
   "source": [
    "# Визуализация схемы загруженных данных\n",
    "print(\"Schema for cafes:\")\n",
    "cafes_df.printSchema()\n",
    "print(\"Schema for menu items:\")\n",
    "menu_df.printSchema()"
   ]
  },
  {
   "cell_type": "code",
   "execution_count": 28,
   "id": "84771937-59ac-4d7c-8ad1-31a4e1bd2986",
   "metadata": {},
   "outputs": [
    {
     "name": "stdout",
     "output_type": "stream",
     "text": [
      "Sample of cafes data:\n",
      "+-----------+-------+---------------+---------+---------+-------+\n",
      "|city       |country|facility_name  |lat      |lng      |rest_id|\n",
      "+-----------+-------+---------------+---------+---------+-------+\n",
      "|Kazan      |Russia |5 Green Bottles|55.79699 |49.181225|1      |\n",
      "|Omsk       |Russia |Base           |54.99072 |73.36383 |2      |\n",
      "|Ufa        |Russia |BeerBerry      |54.759907|56.017345|3      |\n",
      "|Novosibirsk|Russia |Beerfactory    |55.02249 |82.92312 |4      |\n",
      "|Chelyabinsk|Russia |Belochka       |55.155685|61.365307|5      |\n",
      "+-----------+-------+---------------+---------+---------+-------+\n",
      "only showing top 5 rows\n",
      "\n"
     ]
    }
   ],
   "source": [
    "# Просмотр первых 5 строк DataFrame кафе\n",
    "print(\"Sample of cafes data:\")\n",
    "cafes_df.show(5, truncate=False)"
   ]
  },
  {
   "cell_type": "code",
   "execution_count": 29,
   "id": "e1c85bc8-8cdf-4bd8-ade2-8e0639372b6e",
   "metadata": {},
   "outputs": [
    {
     "name": "stdout",
     "output_type": "stream",
     "text": [
      "Sample of menu items:\n",
      "+-------------+-----+-------+\n",
      "|menu_item    |price|menu_id|\n",
      "+-------------+-----+-------+\n",
      "|Apple juice  |110  |1      |\n",
      "|Baked fish   |480  |2      |\n",
      "|Beefeater gin|280  |3      |\n",
      "|Beer         |300  |4      |\n",
      "|Burger       |350  |5      |\n",
      "+-------------+-----+-------+\n",
      "only showing top 5 rows\n",
      "\n"
     ]
    }
   ],
   "source": [
    "# Просмотр первых 5 строк DataFrame меню\n",
    "print(\"Sample of menu items:\")\n",
    "menu_df.show(5, truncate=False)"
   ]
  },
  {
   "cell_type": "code",
   "execution_count": 30,
   "id": "24ce4fd5-f1c1-41c2-a388-8a956f3de65e",
   "metadata": {},
   "outputs": [],
   "source": [
    "# Генерация случайных дат в пределах 2024 года с использованием встроенных функций Spark\n",
    "start_date = \"2024-01-01 00:00:00\"\n",
    "end_date = \"2024-12-31 23:59:59\""
   ]
  },
  {
   "cell_type": "code",
   "execution_count": 31,
   "id": "81d44ed8-953d-48f4-8b9a-7ab77158b955",
   "metadata": {},
   "outputs": [],
   "source": [
    "start_ts = unix_timestamp(expr(f\"'{start_date}'\"))\n",
    "end_ts = unix_timestamp(expr(f\"'{end_date}'\"))"
   ]
  },
  {
   "cell_type": "code",
   "execution_count": 32,
   "id": "0abc07a1-6f43-4f0a-87d0-f20c4e31fe91",
   "metadata": {},
   "outputs": [],
   "source": [
    "# Генерация 500000 заказов\n",
    "order_numbers = [i for i in range(55555, 55555 + 500000)]\n",
    "order_df = spark.createDataFrame([(i,) for i in order_numbers], [\"order_id\"])"
   ]
  },
  {
   "cell_type": "code",
   "execution_count": 33,
   "id": "383be6cf-e756-4f3b-ae32-35867a3403a2",
   "metadata": {},
   "outputs": [],
   "source": [
    "orders_with_dates = order_df.withColumn(\n",
    "    \"datetime\", from_unixtime((rand() * (end_ts - start_ts) + start_ts).cast(\"long\"))\n",
    ")"
   ]
  },
  {
   "cell_type": "code",
   "execution_count": 34,
   "id": "a7c22bbe-8750-4603-88f8-57ec1fa6a592",
   "metadata": {},
   "outputs": [
    {
     "name": "stdout",
     "output_type": "stream",
     "text": [
      "Sample of orders with dates:\n",
      "+--------+-------------------+\n",
      "|order_id|datetime           |\n",
      "+--------+-------------------+\n",
      "|55555   |2024-12-31 10:00:25|\n",
      "|55556   |2024-06-12 23:25:01|\n",
      "|55557   |2024-08-06 14:31:07|\n",
      "|55558   |2024-12-08 13:10:26|\n",
      "|55559   |2024-10-07 13:20:29|\n",
      "+--------+-------------------+\n",
      "only showing top 5 rows\n",
      "\n"
     ]
    }
   ],
   "source": [
    "# Визуализация сгенерированных дат\n",
    "print(\"Sample of orders with dates:\")\n",
    "orders_with_dates.show(5, truncate=False)"
   ]
  },
  {
   "cell_type": "code",
   "execution_count": 35,
   "id": "ab1363ae-e285-4825-9981-778d5827b2c3",
   "metadata": {},
   "outputs": [],
   "source": [
    "# Подсчёт уникальных ресторанов и пунктов меню\n",
    "num_restaurants = cafes_df.select(\"rest_id\").distinct().count()\n",
    "num_menu_items = menu_df.select(\"menu_id\").distinct().count() "
   ]
  },
  {
   "cell_type": "code",
   "execution_count": 36,
   "id": "0f83ec99-0ef9-41a1-bf4b-c7a6685d891c",
   "metadata": {},
   "outputs": [
    {
     "name": "stdout",
     "output_type": "stream",
     "text": [
      "+--------+-------+-------+-------------------+\n",
      "|order_id|rest_id|menu_id|datetime           |\n",
      "+--------+-------+-------+-------------------+\n",
      "|55555   |1      |13     |2024-12-31 10:00:25|\n",
      "|55556   |10     |12     |2024-06-12 23:25:01|\n",
      "|55556   |10     |16     |2024-06-12 23:25:01|\n",
      "|55556   |10     |11     |2024-06-12 23:25:01|\n",
      "|55557   |17     |12     |2024-08-06 14:31:07|\n",
      "|55557   |17     |18     |2024-08-06 14:31:07|\n",
      "|55558   |27     |11     |2024-12-08 13:10:26|\n",
      "|55558   |27     |3      |2024-12-08 13:10:26|\n",
      "|55559   |23     |19     |2024-10-07 13:20:29|\n",
      "|55560   |23     |15     |2024-02-17 16:17:06|\n",
      "|55560   |23     |13     |2024-02-17 16:17:06|\n",
      "|55560   |23     |11     |2024-02-17 16:17:06|\n",
      "|55561   |15     |1      |2024-02-25 12:06:24|\n",
      "|55561   |15     |18     |2024-02-25 12:06:24|\n",
      "|55562   |8      |3      |2024-07-18 15:18:54|\n",
      "|55562   |8      |8      |2024-07-18 15:18:54|\n",
      "|55562   |8      |5      |2024-07-18 15:18:54|\n",
      "|55562   |8      |16     |2024-07-18 15:18:54|\n",
      "|55562   |8      |13     |2024-07-18 15:18:54|\n",
      "|55563   |10     |17     |2024-03-25 23:20:43|\n",
      "+--------+-------+-------+-------------------+\n",
      "only showing top 20 rows\n",
      "\n"
     ]
    }
   ],
   "source": [
    "final_orders_df = orders_with_dates.withColumn(\"rest_id\", floor(rand() * num_restaurants) + 1) \\\n",
    "                                   .withColumn(\"menu_items_count\", floor(rand() * 5) + 1) \\\n",
    "                                   .withColumn(\"menu_id\", floor(rand() * num_menu_items) + 1) \\\n",
    "                                   .withColumn(\"menu_sequence\", expr(\"sequence(1, menu_items_count)\")) \\\n",
    "                                   .withColumn(\"menu_id\", explode(\"menu_sequence\")) \\\n",
    "                                   .withColumn(\"menu_id\", floor(rand() * num_menu_items) + 1) \\\n",
    "                                   .select(\"order_id\", \"rest_id\", \"menu_id\", \"datetime\")\n",
    "\n",
    "final_orders_df.show(truncate=False)"
   ]
  },
  {
   "cell_type": "code",
   "execution_count": 37,
   "id": "3f080113-fd30-4a40-862a-ed18ec38d5db",
   "metadata": {},
   "outputs": [],
   "source": [
    "final_df = final_orders_df.join(cafes_df, final_orders_df.rest_id == cafes_df.rest_id,\"inner\") \\\n",
    "                          .join(menu_df, final_orders_df.menu_id == menu_df.menu_id,\"inner\") \\\n",
    "                          .select(\"order_id\", \"city\", \"country\", \"facility_name\", \"lat\", \"lng\", \"menu_item\", \"price\", \"datetime\")"
   ]
  },
  {
   "cell_type": "code",
   "execution_count": 38,
   "id": "049eb3b2-07ee-4f5d-9eb5-887122e38ad4",
   "metadata": {},
   "outputs": [
    {
     "name": "stdout",
     "output_type": "stream",
     "text": [
      "+--------+---------------+-------+---------------+---------+---------+------------------+-----+-------------------+\n",
      "|order_id|city           |country|facility_name  |lat      |lng      |menu_item         |price|datetime           |\n",
      "+--------+---------------+-------+---------------+---------+---------+------------------+-----+-------------------+\n",
      "|55555   |Kazan          |Russia |5 Green Bottles|55.79699 |49.181225|Grilled vegetables|290  |2024-12-31 10:00:25|\n",
      "|55556   |Ufa            |Russia |FARFOR         |54.7063  |55.997814|Grilled ribs      |650  |2024-06-12 23:25:01|\n",
      "|55556   |Ufa            |Russia |FARFOR         |54.7063  |55.997814|Lula kebab        |260  |2024-06-12 23:25:01|\n",
      "|55556   |Ufa            |Russia |FARFOR         |54.7063  |55.997814|French fries      |250  |2024-06-12 23:25:01|\n",
      "|55557   |Kazan          |Russia |Leto           |55.79978 |49.151207|Grilled ribs      |650  |2024-08-06 14:31:07|\n",
      "|55557   |Kazan          |Russia |Leto           |55.79978 |49.151207|Pizza             |600  |2024-08-06 14:31:07|\n",
      "|55558   |Ekaterinburg   |Russia |The Barbara    |56.84354 |60.590836|French fries      |250  |2024-12-08 13:10:26|\n",
      "|55558   |Ekaterinburg   |Russia |The Barbara    |56.84354 |60.590836|Beefeater gin     |280  |2024-12-08 13:10:26|\n",
      "|55559   |Krasnoyarsk    |Russia |Oliv'e         |56.009087|92.8766  |Summer salad      |200  |2024-10-07 13:20:29|\n",
      "|55560   |Krasnoyarsk    |Russia |Oliv'e         |56.009087|92.8766  |Lemon cake        |200  |2024-02-17 16:17:06|\n",
      "|55560   |Krasnoyarsk    |Russia |Oliv'e         |56.009087|92.8766  |Grilled vegetables|290  |2024-02-17 16:17:06|\n",
      "|55560   |Krasnoyarsk    |Russia |Oliv'e         |56.009087|92.8766  |French fries      |250  |2024-02-17 16:17:06|\n",
      "|55561   |Moscow         |Russia |J'pan          |55.754482|37.63742 |Apple juice       |110  |2024-02-25 12:06:24|\n",
      "|55561   |Moscow         |Russia |J'pan          |55.754482|37.63742 |Pizza             |600  |2024-02-25 12:06:24|\n",
      "|55562   |Ekaterinburg   |Russia |Don Fun        |56.829716|60.593746|Beefeater gin     |280  |2024-07-18 15:18:54|\n",
      "|55562   |Ekaterinburg   |Russia |Don Fun        |56.829716|60.593746|Classic lasagna   |500  |2024-07-18 15:18:54|\n",
      "|55562   |Ekaterinburg   |Russia |Don Fun        |56.829716|60.593746|Burger            |350  |2024-07-18 15:18:54|\n",
      "|55562   |Ekaterinburg   |Russia |Don Fun        |56.829716|60.593746|Lula kebab        |260  |2024-07-18 15:18:54|\n",
      "|55562   |Ekaterinburg   |Russia |Don Fun        |56.829716|60.593746|Grilled vegetables|290  |2024-07-18 15:18:54|\n",
      "|55563   |Ufa            |Russia |FARFOR         |54.7063  |55.997814|Pasta             |550  |2024-03-25 23:20:43|\n",
      "|55564   |Kazan          |Russia |Guru           |55.791737|49.13744 |Grilled ribs      |650  |2024-10-05 22:30:34|\n",
      "|55564   |Kazan          |Russia |Guru           |55.791737|49.13744 |French fries      |250  |2024-10-05 22:30:34|\n",
      "|55564   |Kazan          |Russia |Guru           |55.791737|49.13744 |Summer salad      |200  |2024-10-05 22:30:34|\n",
      "|55565   |Nizhny Novgorod|Russia |Dodici Grill   |56.322235|44.00344 |Lula kebab        |260  |2024-10-26 00:35:40|\n",
      "|55565   |Nizhny Novgorod|Russia |Dodici Grill   |56.322235|44.00344 |Chicken soup      |320  |2024-10-26 00:35:40|\n",
      "|55566   |Novosibirsk    |Russia |Cuba           |55.016655|82.939156|Chicken Salad     |300  |2024-02-29 21:14:12|\n",
      "|55567   |Omsk           |Russia |Base           |54.99072 |73.36383 |Lula kebab        |260  |2024-05-20 15:24:07|\n",
      "|55567   |Omsk           |Russia |Base           |54.99072 |73.36383 |Pasta             |550  |2024-05-20 15:24:07|\n",
      "|55568   |Novosibirsk    |Russia |Beerfactory    |55.02249 |82.92312 |Summer salad      |200  |2024-03-31 16:53:59|\n",
      "|55568   |Novosibirsk    |Russia |Beerfactory    |55.02249 |82.92312 |Apple juice       |110  |2024-03-31 16:53:59|\n",
      "+--------+---------------+-------+---------------+---------+---------+------------------+-----+-------------------+\n",
      "only showing top 30 rows\n",
      "\n"
     ]
    }
   ],
   "source": [
    "final_df.show(30, truncate=False)"
   ]
  },
  {
   "cell_type": "code",
   "execution_count": 39,
   "id": "c19f3217-1707-4b73-b6c0-b55abae7d3c0",
   "metadata": {},
   "outputs": [
    {
     "name": "stdout",
     "output_type": "stream",
     "text": [
      "Количество строк в DataFrame: 1500006\n"
     ]
    }
   ],
   "source": [
    "# Подсчёт количества строк в DataFrame\n",
    "final_df_length = final_df.count()\n",
    "\n",
    "# Вывод количества строк\n",
    "print(f\"Количество строк в DataFrame: {final_df_length}\")"
   ]
  },
  {
   "cell_type": "code",
   "execution_count": 40,
   "id": "e0c3ff13-21bd-4fed-9a4f-ab19e9dd28c8",
   "metadata": {},
   "outputs": [],
   "source": [
    "final_df.write.csv(\"orders_100mb.csv\", mode=\"overwrite\", header=True)"
   ]
  },
  {
   "cell_type": "code",
   "execution_count": 41,
   "id": "c9f64b25-cc6e-4f43-9ee6-060cc03b1ce4",
   "metadata": {},
   "outputs": [
    {
     "name": "stdout",
     "output_type": "stream",
     "text": [
      "Размер CSV файла: 127.04 MB\n"
     ]
    }
   ],
   "source": [
    "file_path = \"orders_100mb.csv\"\n",
    "\n",
    "# Вычисление размера файла\n",
    "file_size = 0\n",
    "for file_name in os.listdir(file_path):\n",
    "    file_size += os.path.getsize(os.path.join(file_path, file_name))\n",
    "\n",
    "# Преобразуем размер в мегабайты (если необходимо)\n",
    "file_size_mb = file_size / (1024 * 1024)\n",
    "print(f\"Размер CSV файла: {file_size_mb:.2f} MB\")"
   ]
  },
  {
   "cell_type": "code",
   "execution_count": 10,
   "id": "0c702d1b-1020-4c60-95af-463048fdf48c",
   "metadata": {},
   "outputs": [],
   "source": [
    "from pyspark.sql.functions import rand, col, when, udf, array_contains, lit\n",
    "from pyspark.sql.types import ArrayType, StringType\n",
    "import pyspark.sql.functions as F"
   ]
  },
  {
   "cell_type": "code",
   "execution_count": 43,
   "id": "c83494a2-c329-49a8-ab2a-11c7f2798229",
   "metadata": {},
   "outputs": [],
   "source": [
    "# Список колонок, которые могут быть испорчены\n",
    "columns_to_spoil = [\"facility_name\", \"menu_item\", \"price\", \"datetime\", \"lat\", \"lng\"]"
   ]
  },
  {
   "cell_type": "code",
   "execution_count": 44,
   "id": "a4fe22b7-4cea-4853-a77b-e3a50ff18b7f",
   "metadata": {},
   "outputs": [],
   "source": [
    "# Создаём функцию для генерации списка колонок, которые будут испорчены в каждой строке\n",
    "def columns_spoil(is_spoiled_row):\n",
    "    import random\n",
    "    if is_spoiled_row:\n",
    "        num_columns_to_spoil = random.randint(1, 3)\n",
    "        return random.sample(columns_to_spoil, num_columns_to_spoil)\n",
    "    else:\n",
    "        return []"
   ]
  },
  {
   "cell_type": "code",
   "execution_count": 45,
   "id": "c6ed0d44-690a-4b2b-8cea-5c85e6121b86",
   "metadata": {},
   "outputs": [],
   "source": [
    "columns_spoil_udf = udf(columns_spoil, ArrayType(StringType()))"
   ]
  },
  {
   "cell_type": "code",
   "execution_count": 46,
   "id": "5cbba9a1-fc8d-4563-9334-5809c69a0749",
   "metadata": {},
   "outputs": [],
   "source": [
    "# Добавляем колонку, которая определяет, будет ли строка испорчена\n",
    "df_spoil_flag = final_df.withColumn('is_spoiled', (rand() < 0.1))\n",
    "\n",
    "# Применяем UDF, чтобы получить список колонок для порчи в каждой строке\n",
    "df_spoil_columns = df_spoil_flag.withColumn('columns_to_spoil', columns_spoil_udf(col('is_spoiled')))"
   ]
  },
  {
   "cell_type": "code",
   "execution_count": 47,
   "id": "c6326cf6-0684-476c-adfd-9b62335fc0c9",
   "metadata": {},
   "outputs": [],
   "source": [
    "# Функция для порчи отдельной колонки\n",
    "def spoil_column(col_name):\n",
    "    # Определяем значение, на которое будем заменять\n",
    "    if col_name in ['lat', 'lng']:\n",
    "        spoiled_value = lit(-999.999)\n",
    "    else:\n",
    "        spoiled_value = lit(None)\n",
    "    return when(array_contains(col('columns_to_spoil'), col_name), spoiled_value).otherwise(col(col_name))"
   ]
  },
  {
   "cell_type": "code",
   "execution_count": 48,
   "id": "7cf2e282-d5d9-43e6-893f-2a14ef3e8d21",
   "metadata": {},
   "outputs": [],
   "source": [
    "# Применяем порчу к каждому столбцу из списка columns_to_spoil\n",
    "for c in columns_to_spoil:\n",
    "    df_spoil_columns = df_spoil_columns.withColumn(c, spoil_column(c))"
   ]
  },
  {
   "cell_type": "code",
   "execution_count": 49,
   "id": "99cee68a-e70b-4e59-a710-fcf8aec985bd",
   "metadata": {},
   "outputs": [],
   "source": [
    "# Удаляем вспомогательные колонки\n",
    "spoiled_df = df_spoil_columns.drop('is_spoiled', 'columns_to_spoil')\n",
    "spoiled_df = spoiled_df.cache()"
   ]
  },
  {
   "cell_type": "code",
   "execution_count": 50,
   "id": "711b85fa-c7c2-4348-a082-4cafb8aeba11",
   "metadata": {},
   "outputs": [
    {
     "name": "stdout",
     "output_type": "stream",
     "text": [
      "+--------+---------------+-------+---------------+---------+---------+------------------+-----+-------------------+\n",
      "|order_id|city           |country|facility_name  |lat      |lng      |menu_item         |price|datetime           |\n",
      "+--------+---------------+-------+---------------+---------+---------+------------------+-----+-------------------+\n",
      "|55555   |Kazan          |Russia |5 Green Bottles|55.79699 |49.181225|Grilled vegetables|290  |2024-12-31 10:00:25|\n",
      "|55556   |Ufa            |Russia |FARFOR         |54.7063  |55.997814|Grilled ribs      |650  |2024-06-12 23:25:01|\n",
      "|55556   |Ufa            |Russia |null           |54.7063  |55.997814|Lula kebab        |260  |2024-06-12 23:25:01|\n",
      "|55556   |Ufa            |Russia |FARFOR         |54.7063  |55.997814|French fries      |250  |2024-06-12 23:25:01|\n",
      "|55557   |Kazan          |Russia |Leto           |55.79978 |49.151207|Grilled ribs      |650  |2024-08-06 14:31:07|\n",
      "|55557   |Kazan          |Russia |Leto           |-999.999 |49.151207|Pizza             |600  |null               |\n",
      "|55558   |Ekaterinburg   |Russia |The Barbara    |56.84354 |60.590836|French fries      |250  |2024-12-08 13:10:26|\n",
      "|55558   |Ekaterinburg   |Russia |The Barbara    |56.84354 |60.590836|Beefeater gin     |280  |2024-12-08 13:10:26|\n",
      "|55559   |Krasnoyarsk    |Russia |Oliv'e         |56.009087|92.8766  |Summer salad      |200  |2024-10-07 13:20:29|\n",
      "|55560   |Krasnoyarsk    |Russia |Oliv'e         |56.009087|92.8766  |Lemon cake        |200  |2024-02-17 16:17:06|\n",
      "|55560   |Krasnoyarsk    |Russia |Oliv'e         |56.009087|92.8766  |Grilled vegetables|290  |2024-02-17 16:17:06|\n",
      "|55560   |Krasnoyarsk    |Russia |Oliv'e         |56.009087|92.8766  |French fries      |250  |2024-02-17 16:17:06|\n",
      "|55561   |Moscow         |Russia |J'pan          |55.754482|37.63742 |Apple juice       |110  |2024-02-25 12:06:24|\n",
      "|55561   |Moscow         |Russia |J'pan          |55.754482|37.63742 |Pizza             |600  |2024-02-25 12:06:24|\n",
      "|55562   |Ekaterinburg   |Russia |Don Fun        |56.829716|60.593746|Beefeater gin     |280  |2024-07-18 15:18:54|\n",
      "|55562   |Ekaterinburg   |Russia |Don Fun        |56.829716|60.593746|Classic lasagna   |500  |2024-07-18 15:18:54|\n",
      "|55562   |Ekaterinburg   |Russia |Don Fun        |56.829716|60.593746|Burger            |350  |2024-07-18 15:18:54|\n",
      "|55562   |Ekaterinburg   |Russia |Don Fun        |56.829716|60.593746|Lula kebab        |260  |2024-07-18 15:18:54|\n",
      "|55562   |Ekaterinburg   |Russia |Don Fun        |56.829716|60.593746|Grilled vegetables|290  |2024-07-18 15:18:54|\n",
      "|55563   |Ufa            |Russia |FARFOR         |54.7063  |55.997814|Pasta             |550  |2024-03-25 23:20:43|\n",
      "|55564   |Kazan          |Russia |Guru           |55.791737|-999.999 |Grilled ribs      |null |null               |\n",
      "|55564   |Kazan          |Russia |Guru           |55.791737|49.13744 |French fries      |250  |2024-10-05 22:30:34|\n",
      "|55564   |Kazan          |Russia |Guru           |55.791737|49.13744 |Summer salad      |200  |2024-10-05 22:30:34|\n",
      "|55565   |Nizhny Novgorod|Russia |Dodici Grill   |56.322235|-999.999 |null              |260  |null               |\n",
      "|55565   |Nizhny Novgorod|Russia |Dodici Grill   |56.322235|44.00344 |Chicken soup      |320  |2024-10-26 00:35:40|\n",
      "|55566   |Novosibirsk    |Russia |Cuba           |55.016655|82.939156|Chicken Salad     |300  |2024-02-29 21:14:12|\n",
      "|55567   |Omsk           |Russia |Base           |54.99072 |73.36383 |Lula kebab        |260  |2024-05-20 15:24:07|\n",
      "|55567   |Omsk           |Russia |Base           |54.99072 |73.36383 |null              |null |2024-05-20 15:24:07|\n",
      "|55568   |Novosibirsk    |Russia |Beerfactory    |55.02249 |82.92312 |Summer salad      |200  |2024-03-31 16:53:59|\n",
      "|55568   |Novosibirsk    |Russia |Beerfactory    |55.02249 |82.92312 |Apple juice       |110  |2024-03-31 16:53:59|\n",
      "|55568   |Novosibirsk    |Russia |Beerfactory    |55.02249 |82.92312 |Grilled ribs      |650  |2024-03-31 16:53:59|\n",
      "|55569   |Nizhny Novgorod|Russia |Mukka          |56.31916 |44.01039 |Sushi             |700  |2024-04-27 08:06:22|\n",
      "|55569   |Nizhny Novgorod|Russia |Mukka          |56.31916 |44.01039 |Beefeater gin     |280  |2024-04-27 08:06:22|\n",
      "|55569   |Nizhny Novgorod|Russia |Mukka          |-999.999 |-999.999 |Chicken Salad     |300  |2024-04-27 08:06:22|\n",
      "|55569   |Nizhny Novgorod|Russia |Mukka          |56.31916 |44.01039 |Beefeater gin     |280  |2024-04-27 08:06:22|\n",
      "|55569   |Nizhny Novgorod|Russia |Mukka          |56.31916 |44.01039 |Summer salad      |200  |2024-04-27 08:06:22|\n",
      "|55570   |Omsk           |Russia |Santino        |-999.999 |73.361244|null              |280  |2024-12-25 07:43:29|\n",
      "|55570   |Omsk           |Russia |Santino        |54.991325|73.361244|Latte             |170  |2024-12-25 07:43:29|\n",
      "|55570   |Omsk           |Russia |Santino        |54.991325|73.361244|Classic lasagna   |500  |2024-12-25 07:43:29|\n",
      "|55571   |Chelyabinsk    |Russia |Belochka       |55.155685|61.365307|French fries      |250  |2024-01-17 03:56:26|\n",
      "+--------+---------------+-------+---------------+---------+---------+------------------+-----+-------------------+\n",
      "only showing top 40 rows\n",
      "\n"
     ]
    }
   ],
   "source": [
    "final_df = spoiled_df.select(\"order_id\", \"city\", \"country\", \"facility_name\", \"lat\", \"lng\", \"menu_item\", \"price\", \"datetime\")\n",
    "final_df.show(40, 0)"
   ]
  },
  {
   "cell_type": "code",
   "execution_count": 51,
   "id": "18c2369c-0dad-41b5-b77c-c87c13ce28a5",
   "metadata": {},
   "outputs": [],
   "source": [
    "# Запишем итоговый датафейм\n",
    "final_df.write.csv('final_orders_100mb.csv', mode='overwrite', header=True)"
   ]
  },
  {
   "cell_type": "code",
   "execution_count": 22,
   "id": "f73122d7-3a71-4812-bd04-513f7649c6c1",
   "metadata": {},
   "outputs": [],
   "source": [
    "from pyspark.sql.functions import isnan, isnull"
   ]
  },
  {
   "cell_type": "code",
   "execution_count": 53,
   "id": "21d70413-41b1-4546-a656-7a8ea2ecd641",
   "metadata": {},
   "outputs": [
    {
     "name": "stdout",
     "output_type": "stream",
     "text": [
      "Доля испорченных строк: 0.10010759956960172\n"
     ]
    }
   ],
   "source": [
    "# Условие для проверки испорченных строк\n",
    "condition_spoiled = (isnull(col(\"city\")) |\n",
    "                     isnull(col(\"country\")) |\n",
    "                     isnull(col(\"facility_name\")) |\n",
    "                     isnull(col(\"menu_item\")) |\n",
    "                     isnull(col(\"price\")) |\n",
    "                     isnull(col(\"datetime\")) |\n",
    "                     (col(\"lat\") == -999.999) |\n",
    "                     (col(\"lng\") == -999.999))\n",
    "\n",
    "# Подсчёт строк, в которых хотя бы одно значение некорректное\n",
    "spoiled_rows_count = final_df.filter(condition_spoiled).count()\n",
    "\n",
    "print(f\"Доля испорченных строк: {spoiled_rows_count / final_df.count()}\")"
   ]
  },
  {
   "cell_type": "code",
   "execution_count": 54,
   "id": "42d79c49-87d8-46fc-b18b-e850290233e0",
   "metadata": {},
   "outputs": [
    {
     "name": "stdout",
     "output_type": "stream",
     "text": [
      "root\n",
      " |-- order_id: long (nullable = true)\n",
      " |-- city: string (nullable = true)\n",
      " |-- country: string (nullable = true)\n",
      " |-- facility_name: string (nullable = true)\n",
      " |-- lat: double (nullable = true)\n",
      " |-- lng: double (nullable = true)\n",
      " |-- menu_item: string (nullable = true)\n",
      " |-- price: integer (nullable = true)\n",
      " |-- datetime: string (nullable = true)\n",
      "\n"
     ]
    }
   ],
   "source": [
    "final_df.printSchema()"
   ]
  },
  {
   "cell_type": "code",
   "execution_count": 55,
   "id": "c278ef61-9e98-4d0f-87f4-68f34fbcb997",
   "metadata": {},
   "outputs": [
    {
     "data": {
      "text/plain": [
       "1500006"
      ]
     },
     "execution_count": 55,
     "metadata": {},
     "output_type": "execute_result"
    }
   ],
   "source": [
    "final_df.count()"
   ]
  },
  {
   "cell_type": "code",
   "execution_count": 17,
   "id": "493a2be6-f56c-4cf4-ba34-018a94dc0b56",
   "metadata": {},
   "outputs": [],
   "source": [
    "spark.stop()"
   ]
  },
  {
   "cell_type": "markdown",
   "id": "c1e99cca-34b8-4438-93eb-5f63dd81cdff",
   "metadata": {},
   "source": [
    "### 2. Считаем, почистим и запишем в Avro и Parquet файлы партиционированые по “ДАТА -> ГОРОД“ "
   ]
  },
  {
   "cell_type": "code",
   "execution_count": 18,
   "id": "06209e82-cf45-465d-8d25-713905d543e6",
   "metadata": {},
   "outputs": [],
   "source": [
    "# findspark.init('C:\\\\spark\\\\spark-3.3.1-bin-hadoop2\\\\')\n",
    "spark = SparkSession.builder.master(\"local[*]\") \\\n",
    "                 .appName(\"Lab1\") \\\n",
    "                 .config('spark.jars', 'spark-avro_2.12-3.3.1.jar') \\\n",
    "                 .getOrCreate()"
   ]
  },
  {
   "cell_type": "code",
   "execution_count": 19,
   "id": "8fe02125-d409-414f-ba6b-9da71c08cea2",
   "metadata": {},
   "outputs": [
    {
     "name": "stdout",
     "output_type": "stream",
     "text": [
      "+--------+---------------+-------+---------------+---------+---------+------------------+-----+-------------------+\n",
      "|order_id|city           |country|facility_name  |lat      |lng      |menu_item         |price|datetime           |\n",
      "+--------+---------------+-------+---------------+---------+---------+------------------+-----+-------------------+\n",
      "|55555   |Kazan          |Russia |5 Green Bottles|55.79699 |49.181225|Grilled vegetables|290  |2024-12-31 10:00:25|\n",
      "|55556   |Ufa            |Russia |null           |54.7063  |55.997814|Lula kebab        |260  |2024-06-12 23:25:01|\n",
      "|55556   |Ufa            |Russia |FARFOR         |54.7063  |55.997814|French fries      |250  |2024-06-12 23:25:01|\n",
      "|55556   |Ufa            |Russia |FARFOR         |54.7063  |55.997814|Grilled ribs      |650  |2024-06-12 23:25:01|\n",
      "|55557   |Kazan          |Russia |Leto           |-999.999 |49.151207|Pizza             |600  |null               |\n",
      "|55557   |Kazan          |Russia |Leto           |55.79978 |49.151207|Grilled ribs      |650  |2024-08-06 14:31:07|\n",
      "|55558   |Ekaterinburg   |Russia |The Barbara    |56.84354 |60.590836|Beefeater gin     |280  |2024-12-08 13:10:26|\n",
      "|55558   |Ekaterinburg   |Russia |The Barbara    |56.84354 |60.590836|French fries      |250  |2024-12-08 13:10:26|\n",
      "|55559   |Krasnoyarsk    |Russia |Oliv'e         |56.009087|92.8766  |Summer salad      |200  |2024-10-07 13:20:29|\n",
      "|55560   |Krasnoyarsk    |Russia |Oliv'e         |56.009087|92.8766  |Grilled vegetables|290  |2024-02-17 16:17:06|\n",
      "|55560   |Krasnoyarsk    |Russia |Oliv'e         |56.009087|92.8766  |French fries      |250  |2024-02-17 16:17:06|\n",
      "|55560   |Krasnoyarsk    |Russia |Oliv'e         |56.009087|92.8766  |Lemon cake        |200  |2024-02-17 16:17:06|\n",
      "|55561   |Moscow         |Russia |J'pan          |55.754482|37.63742 |Apple juice       |110  |2024-02-25 12:06:24|\n",
      "|55561   |Moscow         |Russia |J'pan          |55.754482|37.63742 |Pizza             |600  |2024-02-25 12:06:24|\n",
      "|55562   |Ekaterinburg   |Russia |Don Fun        |56.829716|60.593746|Lula kebab        |260  |2024-07-18 15:18:54|\n",
      "|55562   |Ekaterinburg   |Russia |Don Fun        |56.829716|60.593746|Burger            |350  |2024-07-18 15:18:54|\n",
      "|55562   |Ekaterinburg   |Russia |Don Fun        |56.829716|60.593746|Classic lasagna   |500  |2024-07-18 15:18:54|\n",
      "|55562   |Ekaterinburg   |Russia |Don Fun        |56.829716|60.593746|Beefeater gin     |280  |2024-07-18 15:18:54|\n",
      "|55562   |Ekaterinburg   |Russia |Don Fun        |56.829716|60.593746|Grilled vegetables|290  |2024-07-18 15:18:54|\n",
      "|55563   |Ufa            |Russia |FARFOR         |54.7063  |55.997814|Pasta             |550  |2024-03-25 23:20:43|\n",
      "|55564   |Kazan          |Russia |Guru           |55.791737|-999.999 |Grilled ribs      |null |null               |\n",
      "|55564   |Kazan          |Russia |Guru           |55.791737|49.13744 |French fries      |250  |2024-10-05 22:30:34|\n",
      "|55564   |Kazan          |Russia |Guru           |55.791737|49.13744 |Summer salad      |200  |2024-10-05 22:30:34|\n",
      "|55565   |Nizhny Novgorod|Russia |Dodici Grill   |56.322235|44.00344 |Chicken soup      |320  |2024-10-26 00:35:40|\n",
      "|55565   |Nizhny Novgorod|Russia |Dodici Grill   |56.322235|-999.999 |null              |260  |null               |\n",
      "|55566   |Novosibirsk    |Russia |Cuba           |55.016655|82.939156|Chicken Salad     |300  |2024-02-29 21:14:12|\n",
      "|55567   |Omsk           |Russia |Base           |54.99072 |73.36383 |Lula kebab        |260  |2024-05-20 15:24:07|\n",
      "|55567   |Omsk           |Russia |Base           |54.99072 |73.36383 |null              |null |2024-05-20 15:24:07|\n",
      "|55568   |Novosibirsk    |Russia |Beerfactory    |55.02249 |82.92312 |Apple juice       |110  |2024-03-31 16:53:59|\n",
      "|55568   |Novosibirsk    |Russia |Beerfactory    |55.02249 |82.92312 |Summer salad      |200  |2024-03-31 16:53:59|\n",
      "|55568   |Novosibirsk    |Russia |Beerfactory    |55.02249 |82.92312 |Grilled ribs      |650  |2024-03-31 16:53:59|\n",
      "|55569   |Nizhny Novgorod|Russia |Mukka          |-999.999 |-999.999 |Chicken Salad     |300  |2024-04-27 08:06:22|\n",
      "|55569   |Nizhny Novgorod|Russia |Mukka          |56.31916 |44.01039 |Sushi             |700  |2024-04-27 08:06:22|\n",
      "|55569   |Nizhny Novgorod|Russia |Mukka          |56.31916 |44.01039 |Summer salad      |200  |2024-04-27 08:06:22|\n",
      "|55569   |Nizhny Novgorod|Russia |Mukka          |56.31916 |44.01039 |Beefeater gin     |280  |2024-04-27 08:06:22|\n",
      "+--------+---------------+-------+---------------+---------+---------+------------------+-----+-------------------+\n",
      "only showing top 35 rows\n",
      "\n",
      "root\n",
      " |-- order_id: long (nullable = true)\n",
      " |-- city: string (nullable = true)\n",
      " |-- country: string (nullable = true)\n",
      " |-- facility_name: string (nullable = true)\n",
      " |-- lat: double (nullable = true)\n",
      " |-- lng: double (nullable = true)\n",
      " |-- menu_item: string (nullable = true)\n",
      " |-- price: integer (nullable = true)\n",
      " |-- datetime: timestamp (nullable = true)\n",
      "\n"
     ]
    }
   ],
   "source": [
    "from pyspark.sql.types import StructType, StructField, LongType, StringType, DoubleType, IntegerType, TimestampType\n",
    "\n",
    "# Определяем схему, которая соответствует данным\n",
    "schema = StructType([\n",
    "    StructField(\"order_id\", LongType(), True),\n",
    "    StructField(\"city\", StringType(), True),\n",
    "    StructField(\"country\", StringType(), True),\n",
    "    StructField(\"facility_name\", StringType(), True),\n",
    "    StructField(\"lat\", DoubleType(), True),\n",
    "    StructField(\"lng\", DoubleType(), True),\n",
    "    StructField(\"menu_item\", StringType(), True),\n",
    "    StructField(\"price\", IntegerType(), True),\n",
    "    StructField(\"datetime\", TimestampType(), True)\n",
    "])\n",
    "\n",
    "# Чтение CSV файла с указанием схемы\n",
    "df = spark.read.csv('final_orders_100mb.csv', header=True, schema=schema).orderBy(\"order_id\")\n",
    "\n",
    "df.show(35, truncate=False)\n",
    "df.printSchema()"
   ]
  },
  {
   "cell_type": "code",
   "execution_count": 20,
   "id": "4750bd53-0e16-4d48-b246-600065fb1c18",
   "metadata": {},
   "outputs": [
    {
     "data": {
      "text/plain": [
       "1500006"
      ]
     },
     "execution_count": 20,
     "metadata": {},
     "output_type": "execute_result"
    }
   ],
   "source": [
    "df.count()"
   ]
  },
  {
   "cell_type": "code",
   "execution_count": 25,
   "id": "0aa4b1d1-44cd-4487-8a6e-9578a6665bf7",
   "metadata": {},
   "outputs": [],
   "source": [
    "# Условие для проверки испорченных строк\n",
    "condition_spoiled = (isnull(col(\"city\")) |\n",
    "                     isnull(col(\"country\")) |\n",
    "                     isnull(col(\"facility_name\")) |\n",
    "                     isnull(col(\"menu_item\")) |\n",
    "                     isnull(col(\"price\")) |\n",
    "                     isnull(col(\"datetime\")) |\n",
    "                     (col(\"lat\") == -999.999) |\n",
    "                     (col(\"lng\") == -999.999))\n",
    "\n",
    "# Подсчёт строк, в которых хотя бы одно значение некорректное\n",
    "clear_df = df.filter(~condition_spoiled)"
   ]
  },
  {
   "cell_type": "code",
   "execution_count": 26,
   "id": "936d758c-f8f9-4307-a657-d7d7c426c095",
   "metadata": {},
   "outputs": [],
   "source": [
    "df.filter(condition_spoiled).write.csv('deadletter.csv', mode='overwrite', header=True)"
   ]
  },
  {
   "cell_type": "code",
   "execution_count": 27,
   "id": "24c9042e-d1f3-4435-bfc0-e3fce3886a77",
   "metadata": {},
   "outputs": [
    {
     "name": "stdout",
     "output_type": "stream",
     "text": [
      "root\n",
      " |-- order_id: long (nullable = true)\n",
      " |-- city: string (nullable = true)\n",
      " |-- country: string (nullable = true)\n",
      " |-- facility_name: string (nullable = true)\n",
      " |-- lat: double (nullable = true)\n",
      " |-- lng: double (nullable = true)\n",
      " |-- menu_item: string (nullable = true)\n",
      " |-- price: integer (nullable = true)\n",
      " |-- datetime: timestamp (nullable = true)\n",
      "\n"
     ]
    }
   ],
   "source": [
    "clear_df.printSchema()"
   ]
  },
  {
   "cell_type": "code",
   "execution_count": 28,
   "id": "f1a294f9-a0df-49e1-bbdb-0e39ce470885",
   "metadata": {},
   "outputs": [
    {
     "data": {
      "text/plain": [
       "1349844"
      ]
     },
     "execution_count": 28,
     "metadata": {},
     "output_type": "execute_result"
    }
   ],
   "source": [
    "clear_df.count()"
   ]
  },
  {
   "cell_type": "code",
   "execution_count": 29,
   "id": "60bea0c1-3b09-4733-9cf8-3f3144c9e1ee",
   "metadata": {},
   "outputs": [],
   "source": [
    "from pyspark.sql.functions import to_date, date_format"
   ]
  },
  {
   "cell_type": "code",
   "execution_count": 30,
   "id": "a23d4a50-901c-4c9b-b53b-7f731d54a8ea",
   "metadata": {},
   "outputs": [
    {
     "name": "stdout",
     "output_type": "stream",
     "text": [
      "root\n",
      " |-- order_id: long (nullable = true)\n",
      " |-- city: string (nullable = true)\n",
      " |-- country: string (nullable = true)\n",
      " |-- facility_name: string (nullable = true)\n",
      " |-- lat: double (nullable = true)\n",
      " |-- lng: double (nullable = true)\n",
      " |-- menu_item: string (nullable = true)\n",
      " |-- price: integer (nullable = true)\n",
      " |-- date: date (nullable = true)\n",
      " |-- time: string (nullable = true)\n",
      "\n",
      "+--------+------------+-------+---------------+---------+---------+------------------+-----+----------+--------+\n",
      "|order_id|city        |country|facility_name  |lat      |lng      |menu_item         |price|date      |time    |\n",
      "+--------+------------+-------+---------------+---------+---------+------------------+-----+----------+--------+\n",
      "|55555   |Kazan       |Russia |5 Green Bottles|55.79699 |49.181225|Grilled vegetables|290  |2024-12-31|10:00:25|\n",
      "|55556   |Ufa         |Russia |FARFOR         |54.7063  |55.997814|Grilled ribs      |650  |2024-06-12|23:25:01|\n",
      "|55556   |Ufa         |Russia |FARFOR         |54.7063  |55.997814|French fries      |250  |2024-06-12|23:25:01|\n",
      "|55557   |Kazan       |Russia |Leto           |55.79978 |49.151207|Grilled ribs      |650  |2024-08-06|14:31:07|\n",
      "|55558   |Ekaterinburg|Russia |The Barbara    |56.84354 |60.590836|Beefeater gin     |280  |2024-12-08|13:10:26|\n",
      "|55558   |Ekaterinburg|Russia |The Barbara    |56.84354 |60.590836|French fries      |250  |2024-12-08|13:10:26|\n",
      "|55559   |Krasnoyarsk |Russia |Oliv'e         |56.009087|92.8766  |Summer salad      |200  |2024-10-07|13:20:29|\n",
      "|55560   |Krasnoyarsk |Russia |Oliv'e         |56.009087|92.8766  |Grilled vegetables|290  |2024-02-17|16:17:06|\n",
      "|55560   |Krasnoyarsk |Russia |Oliv'e         |56.009087|92.8766  |Lemon cake        |200  |2024-02-17|16:17:06|\n",
      "|55560   |Krasnoyarsk |Russia |Oliv'e         |56.009087|92.8766  |French fries      |250  |2024-02-17|16:17:06|\n",
      "+--------+------------+-------+---------------+---------+---------+------------------+-----+----------+--------+\n",
      "only showing top 10 rows\n",
      "\n"
     ]
    }
   ],
   "source": [
    "# Извлекаем дату и время из datetime\n",
    "df_date_time = clear_df.withColumn(\"date\", to_date(col(\"datetime\"))) \\\n",
    "                       .withColumn(\"time\", date_format(col(\"datetime\"), \"HH:mm:ss\"))\n",
    "\n",
    "# Удаляем исходную колонку datetime\n",
    "df_date_time = df_date_time.drop(\"datetime\")\n",
    "\n",
    "df_date_time.printSchema()\n",
    "df_date_time.show(10, truncate=False)"
   ]
  },
  {
   "cell_type": "code",
   "execution_count": 33,
   "id": "cbe7bf15-e67d-47fd-8ee3-541c09a10ebc",
   "metadata": {},
   "outputs": [],
   "source": [
    "df_date_time.write.partitionBy(\"date\", \"city\").parquet(\"clear_df_parquet\")"
   ]
  },
  {
   "cell_type": "code",
   "execution_count": 18,
   "id": "a084369c-8b45-4675-94fd-6a4fca81b323",
   "metadata": {},
   "outputs": [],
   "source": [
    "df_date_time.write.partitionBy(\"date\", \"city\").format(\"avro\").save(\"clear_df_avro\")"
   ]
  },
  {
   "cell_type": "code",
   "execution_count": 34,
   "id": "119cc390-118c-436d-920f-03aff33a37e7",
   "metadata": {},
   "outputs": [],
   "source": [
    "spark.stop()"
   ]
  },
  {
   "cell_type": "markdown",
   "id": "2b332ce5-c8d8-44e1-b301-97975a93f8d4",
   "metadata": {},
   "source": [
    "### 3. Считаем из Avro, запишем в PostgresDB, предварительно смоделировав схему БД соответствующую 3НФ"
   ]
  },
  {
   "cell_type": "code",
   "execution_count": 10,
   "id": "deb30fc1-fcb0-49d2-be11-df7d429adb92",
   "metadata": {},
   "outputs": [],
   "source": [
    "spark = SparkSession.builder \\\n",
    "                    .appName(\"StarSchema\") \\\n",
    "                    .config(\"spark.jars\", r\"postgresql-42.7.3.jar\") \\\n",
    "                    .config(\"spark.jars.packages\", \"org.apache.spark:spark-avro_2.12:3.3.1\") \\\n",
    "                    .getOrCreate()"
   ]
  },
  {
   "cell_type": "code",
   "execution_count": 13,
   "id": "5b43ad3a-ed1e-4c0c-99fb-5e648be1188f",
   "metadata": {},
   "outputs": [],
   "source": [
    "avro_path = 'clear_df_avro/'\n",
    "df = spark.read.format('avro').load(avro_path).orderBy(\"order_id\")"
   ]
  },
  {
   "cell_type": "code",
   "execution_count": 22,
   "id": "d415c58e-4a8d-4853-8c3e-8f99558a927e",
   "metadata": {},
   "outputs": [
    {
     "name": "stdout",
     "output_type": "stream",
     "text": [
      "root\n",
      " |-- order_id: long (nullable = true)\n",
      " |-- country: string (nullable = true)\n",
      " |-- facility_name: string (nullable = true)\n",
      " |-- lat: double (nullable = true)\n",
      " |-- lng: double (nullable = true)\n",
      " |-- menu_item: string (nullable = true)\n",
      " |-- price: integer (nullable = true)\n",
      " |-- time: string (nullable = true)\n",
      " |-- date: date (nullable = true)\n",
      " |-- city: string (nullable = true)\n",
      "\n",
      "+--------+-------+---------------+---------+---------+------------------+-----+--------+----------+------------+\n",
      "|order_id|country|facility_name  |lat      |lng      |menu_item         |price|time    |date      |city        |\n",
      "+--------+-------+---------------+---------+---------+------------------+-----+--------+----------+------------+\n",
      "|55555   |Russia |5 Green Bottles|55.79699 |49.181225|Grilled vegetables|290  |10:00:25|2024-12-31|Kazan       |\n",
      "|55556   |Russia |FARFOR         |54.7063  |55.997814|French fries      |250  |23:25:01|2024-06-12|Ufa         |\n",
      "|55556   |Russia |FARFOR         |54.7063  |55.997814|Grilled ribs      |650  |23:25:01|2024-06-12|Ufa         |\n",
      "|55557   |Russia |Leto           |55.79978 |49.151207|Grilled ribs      |650  |14:31:07|2024-08-06|Kazan       |\n",
      "|55558   |Russia |The Barbara    |56.84354 |60.590836|French fries      |250  |13:10:26|2024-12-08|Ekaterinburg|\n",
      "|55558   |Russia |The Barbara    |56.84354 |60.590836|Beefeater gin     |280  |13:10:26|2024-12-08|Ekaterinburg|\n",
      "|55559   |Russia |Oliv'e         |56.009087|92.8766  |Summer salad      |200  |13:20:29|2024-10-07|Krasnoyarsk |\n",
      "|55560   |Russia |Oliv'e         |56.009087|92.8766  |Grilled vegetables|290  |16:17:06|2024-02-17|Krasnoyarsk |\n",
      "|55560   |Russia |Oliv'e         |56.009087|92.8766  |French fries      |250  |16:17:06|2024-02-17|Krasnoyarsk |\n",
      "|55560   |Russia |Oliv'e         |56.009087|92.8766  |Lemon cake        |200  |16:17:06|2024-02-17|Krasnoyarsk |\n",
      "+--------+-------+---------------+---------+---------+------------------+-----+--------+----------+------------+\n",
      "only showing top 10 rows\n",
      "\n"
     ]
    }
   ],
   "source": [
    "df.printSchema()\n",
    "df.show(10, truncate=False)"
   ]
  },
  {
   "cell_type": "code",
   "execution_count": 14,
   "id": "0f15be60-5f25-4b30-8f4d-022feb413768",
   "metadata": {},
   "outputs": [],
   "source": [
    "from pyspark.sql.functions import col, monotonically_increasing_id, count"
   ]
  },
  {
   "cell_type": "code",
   "execution_count": 15,
   "id": "fcbaef39-0c94-42b5-8b63-47e0f6483769",
   "metadata": {},
   "outputs": [],
   "source": [
    "# Датафрейм со странами\n",
    "countries_df = df.select('country').distinct()\n",
    "window_spec_country = Window.orderBy(\"country\")\n",
    "countries_df = countries_df.withColumn(\"country_id\", row_number().over(window_spec_country))"
   ]
  },
  {
   "cell_type": "code",
   "execution_count": 25,
   "id": "4bff96ec-9ccb-4b9a-90b5-d2b1b87ed7c3",
   "metadata": {},
   "outputs": [
    {
     "name": "stdout",
     "output_type": "stream",
     "text": [
      "+-------+----------+\n",
      "|country|country_id|\n",
      "+-------+----------+\n",
      "| Russia|         1|\n",
      "+-------+----------+\n",
      "\n"
     ]
    }
   ],
   "source": [
    "countries_df.show()"
   ]
  },
  {
   "cell_type": "code",
   "execution_count": 16,
   "id": "2ace7922-f91c-4bcc-a5cf-f0b756944ed5",
   "metadata": {},
   "outputs": [],
   "source": [
    "# Датафрейм с городами\n",
    "cities_df = df.select('city', 'country').distinct()\n",
    "cities_df = cities_df.join(countries_df, on='country', how='left')\n",
    "window_spec_city = Window.orderBy(\"city\", \"country_id\")\n",
    "cities_df = cities_df.withColumn(\"city_id\", row_number().over(window_spec_city))\n",
    "cities_df = cities_df.select(\"city_id\", \"city\", \"country_id\")"
   ]
  },
  {
   "cell_type": "code",
   "execution_count": 27,
   "id": "5bf51e73-4f0d-4866-9ae8-12a0ccea0c4e",
   "metadata": {},
   "outputs": [
    {
     "name": "stdout",
     "output_type": "stream",
     "text": [
      "+-------+----------------+----------+\n",
      "|city_id|city            |country_id|\n",
      "+-------+----------------+----------+\n",
      "|1      |Chelyabinsk     |1         |\n",
      "|2      |Ekaterinburg    |1         |\n",
      "|3      |Kazan           |1         |\n",
      "|4      |Krasnoyarsk     |1         |\n",
      "|5      |Moscow          |1         |\n",
      "|6      |Nizhny Novgorod |1         |\n",
      "|7      |Novosibirsk     |1         |\n",
      "|8      |Omsk            |1         |\n",
      "|9      |Saint Petersburg|1         |\n",
      "|10     |Ufa             |1         |\n",
      "+-------+----------------+----------+\n",
      "\n"
     ]
    }
   ],
   "source": [
    "cities_df.show(10, truncate=False)"
   ]
  },
  {
   "cell_type": "code",
   "execution_count": 17,
   "id": "713d5f69-56d9-465a-825d-d026ed4dc1ae",
   "metadata": {},
   "outputs": [],
   "source": [
    "# Датафрейм с кафе\n",
    "facility_df = df.select(\"facility_name\", \"city\", \"lat\", \"lng\").distinct()\n",
    "facility_df = facility_df.join(cities_df, on='city', how='left')\n",
    "window_spec_facility = Window.orderBy(\"facility_name\", \"city_id\")\n",
    "facility_df = facility_df.withColumn(\"facility_id\", row_number().over(window_spec_facility))\n",
    "facility_df = facility_df.select(\"facility_id\", \"facility_name\", \"lat\", \"lng\", \"city_id\")"
   ]
  },
  {
   "cell_type": "code",
   "execution_count": 29,
   "id": "3fedb030-643b-4647-8534-c9dca0dfcb4c",
   "metadata": {},
   "outputs": [
    {
     "name": "stdout",
     "output_type": "stream",
     "text": [
      "+-----------+---------------+---------+---------+-------+\n",
      "|facility_id|facility_name  |lat      |lng      |city_id|\n",
      "+-----------+---------------+---------+---------+-------+\n",
      "|1          |5 Green Bottles|55.79699 |49.181225|3      |\n",
      "|2          |Base           |54.99072 |73.36383 |8      |\n",
      "|3          |BeerBerry      |54.759907|56.017345|10     |\n",
      "|4          |Beerfactory    |55.02249 |82.92312 |7      |\n",
      "|5          |Belochka       |55.155685|61.365307|1      |\n",
      "|6          |Cuba           |55.016655|82.939156|7      |\n",
      "|7          |Dodici Grill   |56.322235|44.00344 |6      |\n",
      "|8          |Don Fun        |56.829716|60.593746|2      |\n",
      "|9          |EverJazz       |56.84326 |60.615234|2      |\n",
      "|10         |FARFOR         |54.7063  |55.997814|10     |\n",
      "+-----------+---------------+---------+---------+-------+\n",
      "only showing top 10 rows\n",
      "\n"
     ]
    }
   ],
   "source": [
    "facility_df.show(10, truncate=False)"
   ]
  },
  {
   "cell_type": "code",
   "execution_count": 18,
   "id": "766ce2eb-3cad-4f5d-aae5-eaa6ee9f074d",
   "metadata": {},
   "outputs": [],
   "source": [
    "# Датафрейм с блюдами\n",
    "menu_item_df = df.select(\"menu_item\", \"price\").distinct()\n",
    "window_spec_menu_item = Window.orderBy(\"menu_item\", \"price\")\n",
    "menu_item_df = menu_item_df.withColumn(\"menu_item_id\", row_number().over(window_spec_menu_item))"
   ]
  },
  {
   "cell_type": "code",
   "execution_count": 31,
   "id": "9af59a62-316d-4bd2-9079-af2d80c46f15",
   "metadata": {},
   "outputs": [
    {
     "name": "stdout",
     "output_type": "stream",
     "text": [
      "+---------------+-----+------------+\n",
      "|menu_item      |price|menu_item_id|\n",
      "+---------------+-----+------------+\n",
      "|Apple juice    |110  |1           |\n",
      "|Baked fish     |480  |2           |\n",
      "|Beefeater gin  |280  |3           |\n",
      "|Beer           |300  |4           |\n",
      "|Burger         |350  |5           |\n",
      "|Chicken Salad  |300  |6           |\n",
      "|Chicken soup   |320  |7           |\n",
      "|Classic lasagna|500  |8           |\n",
      "|Cup of coffee  |150  |9           |\n",
      "|Cup of tea     |120  |10          |\n",
      "+---------------+-----+------------+\n",
      "only showing top 10 rows\n",
      "\n"
     ]
    }
   ],
   "source": [
    "menu_item_df.show(10, truncate=False)"
   ]
  },
  {
   "cell_type": "code",
   "execution_count": 19,
   "id": "795257f9-d87e-4763-827d-8d9187cc74f6",
   "metadata": {},
   "outputs": [],
   "source": [
    "# Датафрейм с заказами\n",
    "order_df = df.select(\"order_id\", \"facility_name\", \"date\", \"time\").distinct()\n",
    "order_df = order_df.join(facility_df.select(\"facility_id\", \"facility_name\"), on=\"facility_name\", how=\"left\") \\\n",
    "                   .select(\"order_id\", \"facility_id\", \"date\", \"time\")"
   ]
  },
  {
   "cell_type": "code",
   "execution_count": 33,
   "id": "a43b8e57-4fee-49b8-8997-0ebb7d8547ae",
   "metadata": {},
   "outputs": [
    {
     "name": "stdout",
     "output_type": "stream",
     "text": [
      "+--------+-----------+----------+--------+\n",
      "|order_id|facility_id|date      |time    |\n",
      "+--------+-----------+----------+--------+\n",
      "|414623  |29         |2024-06-07|04:06:27|\n",
      "|399133  |28         |2024-01-05|20:51:25|\n",
      "|210770  |2          |2024-12-07|06:34:53|\n",
      "|553267  |30         |2024-02-09|11:36:39|\n",
      "|538283  |10         |2024-09-20|16:48:13|\n",
      "|526791  |3          |2024-05-12|03:54:26|\n",
      "|553382  |3          |2024-09-20|05:58:39|\n",
      "|534163  |6          |2024-10-04|03:55:45|\n",
      "|224247  |16         |2024-09-03|13:29:23|\n",
      "|531869  |23         |2024-06-18|02:04:06|\n",
      "+--------+-----------+----------+--------+\n",
      "only showing top 10 rows\n",
      "\n"
     ]
    }
   ],
   "source": [
    "order_df.show(10, truncate=False)"
   ]
  },
  {
   "cell_type": "code",
   "execution_count": 20,
   "id": "1a99f12f-b4fc-4cc1-99bd-28551ec13a24",
   "metadata": {},
   "outputs": [],
   "source": [
    "# Датафрейм с деталями заказов\n",
    "order_detail_df = df.groupBy(\"order_id\", \"menu_item\", \"price\").agg(count(\"*\").alias(\"quantity\"))\n",
    "order_detail_df = order_detail_df.join(menu_item_df, on=[\"menu_item\", \"price\"], how=\"left\")\n",
    "window_spec_order_detail = Window.orderBy(\"order_id\", \"menu_item_id\")\n",
    "order_detail_df = order_detail_df.withColumn(\"order_detail_id\", row_number().over(window_spec_order_detail))\n",
    "order_detail_df = order_detail_df.select(\"order_detail_id\", \"order_id\", \"menu_item_id\", \"quantity\")"
   ]
  },
  {
   "cell_type": "code",
   "execution_count": 35,
   "id": "8c5a0bc0-41ff-48cd-b3b5-695ea05c000c",
   "metadata": {},
   "outputs": [
    {
     "name": "stdout",
     "output_type": "stream",
     "text": [
      "+---------------+--------+------------+--------+\n",
      "|order_detail_id|order_id|menu_item_id|quantity|\n",
      "+---------------+--------+------------+--------+\n",
      "|1              |55555   |13          |1       |\n",
      "|2              |55556   |11          |1       |\n",
      "|3              |55556   |12          |1       |\n",
      "|4              |55557   |12          |1       |\n",
      "|5              |55558   |3           |1       |\n",
      "|6              |55558   |11          |1       |\n",
      "|7              |55559   |19          |1       |\n",
      "|8              |55560   |11          |1       |\n",
      "|9              |55560   |13          |1       |\n",
      "|10             |55560   |15          |1       |\n",
      "+---------------+--------+------------+--------+\n",
      "only showing top 10 rows\n",
      "\n"
     ]
    }
   ],
   "source": [
    "order_detail_df.show(10, truncate=False)"
   ]
  },
  {
   "cell_type": "code",
   "execution_count": 36,
   "id": "748a9b0b-d7f7-43c2-a8a8-32bf6755e1f2",
   "metadata": {},
   "outputs": [
    {
     "name": "stdout",
     "output_type": "stream",
     "text": [
      "cities_df schema\n",
      "root\n",
      " |-- city_id: integer (nullable = false)\n",
      " |-- city: string (nullable = true)\n",
      " |-- country_id: integer (nullable = true)\n",
      "\n",
      "----------\n",
      "facility_df schema\n",
      "root\n",
      " |-- facility_id: integer (nullable = false)\n",
      " |-- facility_name: string (nullable = true)\n",
      " |-- lat: double (nullable = true)\n",
      " |-- lng: double (nullable = true)\n",
      " |-- city_id: integer (nullable = true)\n",
      "\n",
      "----------\n",
      "menu_item_df schema\n",
      "root\n",
      " |-- menu_item: string (nullable = true)\n",
      " |-- price: integer (nullable = true)\n",
      " |-- menu_item_id: integer (nullable = false)\n",
      "\n",
      "----------\n",
      "order_df schema\n",
      "root\n",
      " |-- order_id: long (nullable = true)\n",
      " |-- facility_id: integer (nullable = true)\n",
      " |-- date: date (nullable = true)\n",
      " |-- time: string (nullable = true)\n",
      "\n",
      "----------\n",
      "order_detail_df schema\n",
      "root\n",
      " |-- order_detail_id: integer (nullable = false)\n",
      " |-- order_id: long (nullable = true)\n",
      " |-- menu_item_id: integer (nullable = true)\n",
      " |-- quantity: long (nullable = false)\n",
      "\n"
     ]
    }
   ],
   "source": [
    "print('cities_df schema')\n",
    "cities_df.printSchema()\n",
    "print('----------')\n",
    "print('facility_df schema')\n",
    "facility_df.printSchema()\n",
    "print('----------')\n",
    "print('menu_item_df schema')\n",
    "menu_item_df.printSchema()\n",
    "print('----------')\n",
    "print('order_df schema')\n",
    "order_df.printSchema()\n",
    "print('----------')\n",
    "print('order_detail_df schema')\n",
    "order_detail_df.printSchema()"
   ]
  },
  {
   "cell_type": "code",
   "execution_count": 22,
   "id": "6dcd78f7-f08b-4871-b354-637bd73fbde6",
   "metadata": {},
   "outputs": [],
   "source": [
    "jdbc_url = \"jdbc:postgresql://localhost/OrderDB\"\n",
    "connection_properties = {\n",
    "    \"user\": \"postgres\",\n",
    "    \"password\": \"password\",\n",
    "    \"driver\": \"org.postgresql.Driver\"\n",
    "}"
   ]
  },
  {
   "cell_type": "code",
   "execution_count": 23,
   "id": "c3eb073d-612c-4dc0-85d4-07d052c608d7",
   "metadata": {},
   "outputs": [],
   "source": [
    "countries_df.write.jdbc(url=jdbc_url, table=\"countries\", mode=\"overwrite\", properties=connection_properties)\n",
    "cities_df.write.jdbc(url=jdbc_url, table=\"cities\", mode=\"overwrite\", properties=connection_properties)\n",
    "facility_df.write.jdbc(url=jdbc_url, table=\"facility\", mode=\"overwrite\", properties=connection_properties)\n",
    "menu_item_df.write.jdbc(url=jdbc_url, table=\"menu_Item\", mode=\"overwrite\", properties=connection_properties)\n",
    "order_df.write.jdbc(url=jdbc_url, table=\"orders\", mode=\"overwrite\", properties=connection_properties)\n",
    "order_detail_df.write.jdbc(url=jdbc_url, table=\"orders_details\", mode=\"overwrite\", properties=connection_properties)"
   ]
  },
  {
   "cell_type": "code",
   "execution_count": 24,
   "id": "eabf0c3e-a354-43b4-b190-6937aa21d443",
   "metadata": {},
   "outputs": [],
   "source": [
    "spark.stop()"
   ]
  },
  {
   "cell_type": "markdown",
   "id": "0fbd4683-675e-49b4-aaf4-8d6f813227d0",
   "metadata": {},
   "source": [
    "### 4. Сделаем то же самое, но приведем к денормализованной схеме звезда(Star)"
   ]
  },
  {
   "cell_type": "code",
   "execution_count": 25,
   "id": "5e4a758b-afd2-41b1-a452-4e4fa991057c",
   "metadata": {},
   "outputs": [],
   "source": [
    "spark = SparkSession.builder \\\n",
    "    .appName(\"StarSchema\") \\\n",
    "    .config(\"spark.jars\", \"postgresql-42.7.3.jar\") \\\n",
    "    .config(\"spark.jars.packages\", \"org.apache.spark:spark-avro_2.12:3.3.1\") \\\n",
    "    .getOrCreate()"
   ]
  },
  {
   "cell_type": "code",
   "execution_count": 26,
   "id": "a7d4b2bb-e550-4e46-b105-7a63f3fa7960",
   "metadata": {},
   "outputs": [],
   "source": [
    "avro_path = 'clear_df_avro/'\n",
    "df = spark.read.format('avro').load(avro_path)"
   ]
  },
  {
   "cell_type": "code",
   "execution_count": 27,
   "id": "26bead6e-28cd-4ce4-8b24-f13c2b82b470",
   "metadata": {},
   "outputs": [],
   "source": [
    "# Таблица измерений продуктов хранит уникальные продукты и их цены. \n",
    "# Она позволяет связать заказы с конкретными продуктами через product_id.\n",
    "product_df = df.select('menu_item', 'price').distinct()\n",
    "window_spec_product = Window.orderBy(\"menu_item\", \"price\")\n",
    "product_df = product_df.withColumn(\"product_id\", row_number().over(window_spec_product))\n",
    "product_df = product_df.select(\"product_id\", \"menu_item\", \"price\")"
   ]
  },
  {
   "cell_type": "code",
   "execution_count": 28,
   "id": "d0a97085-fba0-40db-9220-98d620cc5f2a",
   "metadata": {},
   "outputs": [
    {
     "name": "stdout",
     "output_type": "stream",
     "text": [
      "root\n",
      " |-- product_id: integer (nullable = false)\n",
      " |-- menu_item: string (nullable = true)\n",
      " |-- price: integer (nullable = true)\n",
      "\n",
      "+----------+---------------+-----+\n",
      "|product_id|menu_item      |price|\n",
      "+----------+---------------+-----+\n",
      "|1         |Apple juice    |110  |\n",
      "|2         |Baked fish     |480  |\n",
      "|3         |Beefeater gin  |280  |\n",
      "|4         |Beer           |300  |\n",
      "|5         |Burger         |350  |\n",
      "|6         |Chicken Salad  |300  |\n",
      "|7         |Chicken soup   |320  |\n",
      "|8         |Classic lasagna|500  |\n",
      "|9         |Cup of coffee  |150  |\n",
      "|10        |Cup of tea     |120  |\n",
      "+----------+---------------+-----+\n",
      "only showing top 10 rows\n",
      "\n"
     ]
    }
   ],
   "source": [
    "product_df.printSchema()\n",
    "product_df.show(10, truncate=False)"
   ]
  },
  {
   "cell_type": "code",
   "execution_count": 29,
   "id": "7f085e91-43cd-4d0a-8ae9-9fa1c3218afa",
   "metadata": {},
   "outputs": [],
   "source": [
    "# Создаем таблицу местоположений\n",
    "# Таблица измерения местоположений содержит уникальные комбинации городов и стран\n",
    "location_df = df.select('city', 'country').distinct()\n",
    "window_spec_location = Window.orderBy(\"country\", \"city\")\n",
    "location_df = location_df.withColumn(\"location_id\", row_number().over(window_spec_location))\n",
    "location_df = location_df.select(\"location_id\", \"city\", \"country\")"
   ]
  },
  {
   "cell_type": "code",
   "execution_count": 30,
   "id": "2de6b861-7008-4324-80ba-053e635e1007",
   "metadata": {},
   "outputs": [
    {
     "name": "stdout",
     "output_type": "stream",
     "text": [
      "root\n",
      " |-- location_id: integer (nullable = false)\n",
      " |-- city: string (nullable = true)\n",
      " |-- country: string (nullable = true)\n",
      "\n",
      "+-----------+----------------+-------+\n",
      "|location_id|city            |country|\n",
      "+-----------+----------------+-------+\n",
      "|1          |Chelyabinsk     |Russia |\n",
      "|2          |Ekaterinburg    |Russia |\n",
      "|3          |Kazan           |Russia |\n",
      "|4          |Krasnoyarsk     |Russia |\n",
      "|5          |Moscow          |Russia |\n",
      "|6          |Nizhny Novgorod |Russia |\n",
      "|7          |Novosibirsk     |Russia |\n",
      "|8          |Omsk            |Russia |\n",
      "|9          |Saint Petersburg|Russia |\n",
      "|10         |Ufa             |Russia |\n",
      "+-----------+----------------+-------+\n",
      "\n"
     ]
    }
   ],
   "source": [
    "location_df.printSchema()\n",
    "location_df.show(10, truncate=False)"
   ]
  },
  {
   "cell_type": "code",
   "execution_count": 31,
   "id": "1ed0b845-0753-4cab-a08e-61b322183202",
   "metadata": {},
   "outputs": [],
   "source": [
    "# Создаем размерность заведений\n",
    "# Таблица измерений заведений включает информацию о каждом заведении.\n",
    "facility_df = df.select('facility_name', 'lat', 'lng').distinct()\n",
    "window_spec_facility = Window.orderBy(\"facility_name\")\n",
    "facility_df = facility_df.withColumn(\"facility_id\", row_number().over(window_spec_facility))\n",
    "facility_df = facility_df.select(\"facility_id\", \"facility_name\", \"lat\", \"lng\")"
   ]
  },
  {
   "cell_type": "code",
   "execution_count": 32,
   "id": "0d06abe0-4f24-4f93-ad5c-ce18ac5f438c",
   "metadata": {},
   "outputs": [
    {
     "name": "stdout",
     "output_type": "stream",
     "text": [
      "root\n",
      " |-- facility_id: integer (nullable = false)\n",
      " |-- facility_name: string (nullable = true)\n",
      " |-- lat: double (nullable = true)\n",
      " |-- lng: double (nullable = true)\n",
      "\n",
      "+-----------+---------------+---------+---------+\n",
      "|facility_id|facility_name  |lat      |lng      |\n",
      "+-----------+---------------+---------+---------+\n",
      "|1          |5 Green Bottles|55.79699 |49.181225|\n",
      "|2          |Base           |54.99072 |73.36383 |\n",
      "|3          |BeerBerry      |54.759907|56.017345|\n",
      "|4          |Beerfactory    |55.02249 |82.92312 |\n",
      "|5          |Belochka       |55.155685|61.365307|\n",
      "|6          |Cuba           |55.016655|82.939156|\n",
      "|7          |Dodici Grill   |56.322235|44.00344 |\n",
      "|8          |Don Fun        |56.829716|60.593746|\n",
      "|9          |EverJazz       |56.84326 |60.615234|\n",
      "|10         |FARFOR         |54.7063  |55.997814|\n",
      "+-----------+---------------+---------+---------+\n",
      "only showing top 10 rows\n",
      "\n"
     ]
    }
   ],
   "source": [
    "facility_df.printSchema()\n",
    "facility_df.show(10, truncate=False)"
   ]
  },
  {
   "cell_type": "code",
   "execution_count": 33,
   "id": "96325eb3-e361-49ba-a5e0-176da87499fd",
   "metadata": {},
   "outputs": [],
   "source": [
    "# Создаем фактическую таблицу заказов.\n",
    "# Центральная часть схемы \"звезда\"\n",
    "order_fact_df = df.groupBy(\"order_id\", \"facility_name\", \"menu_item\", \"price\", \"city\", \"country\").agg(count(\"*\").alias(\"quantity\"))\n",
    "order_fact_df = order_fact_df.join(product_df, on=['menu_item', 'price'], how='left')\n",
    "order_fact_df = order_fact_df.join(facility_df, on=['facility_name'], how='left')\n",
    "order_fact_df = order_fact_df.join(location_df, on=['city', 'country'], how='left')\n",
    "order_fact_df = order_fact_df.select('order_id', 'facility_id', 'product_id', 'location_id', 'quantity')"
   ]
  },
  {
   "cell_type": "code",
   "execution_count": 34,
   "id": "c1c6a2bd-f740-4833-9a1f-d9ae870585cf",
   "metadata": {},
   "outputs": [
    {
     "name": "stdout",
     "output_type": "stream",
     "text": [
      "root\n",
      " |-- order_id: long (nullable = true)\n",
      " |-- facility_id: integer (nullable = true)\n",
      " |-- product_id: integer (nullable = true)\n",
      " |-- location_id: integer (nullable = true)\n",
      " |-- quantity: long (nullable = false)\n",
      "\n",
      "+--------+-----------+----------+-----------+--------+\n",
      "|order_id|facility_id|product_id|location_id|quantity|\n",
      "+--------+-----------+----------+-----------+--------+\n",
      "|529755  |23         |18        |4          |1       |\n",
      "|522251  |12         |18        |1          |1       |\n",
      "|459951  |15         |11        |5          |1       |\n",
      "|552960  |30         |11        |4          |1       |\n",
      "|551426  |18         |14        |10         |1       |\n",
      "|551426  |17         |14        |10         |1       |\n",
      "|121293  |8          |14        |2          |1       |\n",
      "|548610  |30         |16        |4          |1       |\n",
      "|552674  |10         |4         |10         |2       |\n",
      "|425348  |29         |3         |5          |1       |\n",
      "+--------+-----------+----------+-----------+--------+\n",
      "only showing top 10 rows\n",
      "\n"
     ]
    }
   ],
   "source": [
    "order_fact_df.printSchema()\n",
    "order_fact_df.show(10, truncate=False)"
   ]
  },
  {
   "cell_type": "code",
   "execution_count": 35,
   "id": "5bab5725-d942-44cc-8551-fea9994d7fbc",
   "metadata": {},
   "outputs": [],
   "source": [
    "jdbc_url = \"jdbc:postgresql://localhost/OrderStar\"\n",
    "connection_properties = {\n",
    "    \"user\": \"postgres\",\n",
    "    \"password\": \"password\",\n",
    "    \"driver\": \"org.postgresql.Driver\"\n",
    "}"
   ]
  },
  {
   "cell_type": "code",
   "execution_count": 36,
   "id": "63dffc84-e036-489b-9388-1e64a129cdab",
   "metadata": {},
   "outputs": [],
   "source": [
    "product_df.write.jdbc(url=jdbc_url, table=\"dim_product\", mode=\"overwrite\", properties=connection_properties)\n",
    "location_df.write.jdbc(url=jdbc_url, table=\"dim_location\", mode=\"overwrite\", properties=connection_properties)\n",
    "facility_df.write.jdbc(url=jdbc_url, table=\"dim_facility\", mode=\"overwrite\", properties=connection_properties)\n",
    "order_fact_df.write.jdbc(url=jdbc_url, table=\"fact_orders\", mode=\"overwrite\", properties=connection_properties)"
   ]
  },
  {
   "cell_type": "code",
   "execution_count": 25,
   "id": "ca0e50ae-d4e4-4f56-9aa8-993154243afb",
   "metadata": {},
   "outputs": [],
   "source": [
    "spark.stop()"
   ]
  },
  {
   "cell_type": "markdown",
   "id": "38d108a8-ff3c-4c21-ade6-506cc0345853",
   "metadata": {},
   "source": [
    "### 5. Читаем из Parquet файла, генерируем заказы в одну запись, добавляющая сумму заказа в качестве поля на верхний уровень и массив позиций заказов в качестве полей и записывающая результат в MongoDB"
   ]
  },
  {
   "cell_type": "code",
   "execution_count": 1,
   "id": "dea42ffa-70ea-403a-bda8-e4d2983e91ca",
   "metadata": {},
   "outputs": [],
   "source": [
    "parquet_path = \"clear_df_parquet\""
   ]
  },
  {
   "cell_type": "code",
   "execution_count": 73,
   "id": "c160128c-bce6-428b-bd9c-708aba3e3cf2",
   "metadata": {},
   "outputs": [],
   "source": [
    "# spark = SparkSession.builder \\\n",
    "#     .appName(\"MongoTask\") \\\n",
    "#     .config(\"spark.jars\", \"postgresql-42.7.3.jar\") \\\n",
    "#     .config('spark.jars.packages', 'org.mongodb.spark:mongo-spark-connector_2.12:10.3.0')\\\n",
    "#     .config('spark.mongodb.write.connection.uri', 'mongodb://127.0.0.1/orderdb')\\\n",
    "#     .getOrCreate()"
   ]
  },
  {
   "cell_type": "code",
   "execution_count": 9,
   "id": "679cec33-282c-4da3-8f8d-89bda7411b83",
   "metadata": {},
   "outputs": [],
   "source": [
    "spark = SparkSession.builder \\\n",
    "                    .appName(\"MongoTask\") \\\n",
    "                    .config(\"spark.jars\", \"postgresql-42.7.3.jar\") \\\n",
    "                    .config('spark.jars.packages', 'org.mongodb.spark:mongo-spark-connector_2.12:10.1.1') \\\n",
    "                    .config('spark.mongodb.write.connection.uri', 'mongodb://localhost:27017/orderdb')\\\n",
    "                    .getOrCreate()"
   ]
  },
  {
   "cell_type": "code",
   "execution_count": 10,
   "id": "040a96a2-77d3-41d1-89d0-3af974b1a241",
   "metadata": {},
   "outputs": [],
   "source": [
    "df = spark.read.parquet(parquet_path)"
   ]
  },
  {
   "cell_type": "code",
   "execution_count": 41,
   "id": "1e4ecf3d-884f-4e8f-b08a-71f30d2fc74c",
   "metadata": {},
   "outputs": [
    {
     "name": "stdout",
     "output_type": "stream",
     "text": [
      "+--------+-------+-------------+---------+---------+---------------+-----+--------+----------+----------------+\n",
      "|order_id|country|facility_name|lat      |lng      |menu_item      |price|time    |date      |city            |\n",
      "+--------+-------+-------------+---------+---------+---------------+-----+--------+----------+----------------+\n",
      "|459572  |Russia |Toscana grill|59.92554 |30.313784|Pizza          |600  |00:49:22|2024-06-16|Saint Petersburg|\n",
      "|459572  |Russia |Toscana grill|59.92554 |30.313784|Burger         |350  |00:49:22|2024-06-16|Saint Petersburg|\n",
      "|459572  |Russia |Toscana grill|59.92554 |30.313784|Cup of coffee  |150  |00:49:22|2024-06-16|Saint Petersburg|\n",
      "|461598  |Russia |Hunt         |59.929195|30.343874|Classic lasagna|500  |07:14:28|2024-06-16|Saint Petersburg|\n",
      "|461598  |Russia |Hunt         |59.929195|30.343874|Sushi          |700  |07:14:28|2024-06-16|Saint Petersburg|\n",
      "|461598  |Russia |Hunt         |59.929195|30.343874|Apple juice    |110  |07:14:28|2024-06-16|Saint Petersburg|\n",
      "|461927  |Russia |Palermo      |59.930496|30.341417|Beer           |300  |13:36:00|2024-06-16|Saint Petersburg|\n",
      "|461927  |Russia |Palermo      |59.930496|30.341417|Pasta          |550  |13:36:00|2024-06-16|Saint Petersburg|\n",
      "|461927  |Russia |Palermo      |59.930496|30.341417|Cup of tea     |120  |13:36:00|2024-06-16|Saint Petersburg|\n",
      "|462207  |Russia |Palermo      |59.930496|30.341417|Chicken soup   |320  |22:38:20|2024-06-16|Saint Petersburg|\n",
      "+--------+-------+-------------+---------+---------+---------------+-----+--------+----------+----------------+\n",
      "only showing top 10 rows\n",
      "\n"
     ]
    }
   ],
   "source": [
    "df.show(10, truncate=False)"
   ]
  },
  {
   "cell_type": "code",
   "execution_count": 11,
   "id": "6af54db0-0e2a-49a0-bcc3-497af0134b9c",
   "metadata": {},
   "outputs": [],
   "source": [
    "from pyspark.sql.functions import sum, collect_list, struct, count\n",
    "from pyspark.sql.functions import first"
   ]
  },
  {
   "cell_type": "code",
   "execution_count": 12,
   "id": "9bd06d4a-b6c2-48fb-9a78-43b865a6b5fb",
   "metadata": {},
   "outputs": [],
   "source": [
    "# Генерируем общую сумму заказа для каждого order_id\n",
    "total_df = df.groupBy(\"order_id\", \"date\") \\\n",
    "             .agg(sum(\"price\").alias(\"total_price\"))"
   ]
  },
  {
   "cell_type": "code",
   "execution_count": 44,
   "id": "dc889e14-49e6-4d48-9a40-19ecf9c9a6e7",
   "metadata": {},
   "outputs": [
    {
     "name": "stdout",
     "output_type": "stream",
     "text": [
      "+--------+----------+-----------+\n",
      "|order_id|date      |total_price|\n",
      "+--------+----------+-----------+\n",
      "|528132  |2024-02-09|1450       |\n",
      "|530823  |2024-08-08|800        |\n",
      "|482288  |2024-05-24|1450       |\n",
      "|432661  |2024-05-23|870        |\n",
      "|548196  |2024-10-27|1380       |\n",
      "|547869  |2024-08-08|1180       |\n",
      "|161163  |2024-02-29|1150       |\n",
      "|457841  |2024-07-18|1050       |\n",
      "|448633  |2024-12-21|1370       |\n",
      "|290324  |2024-08-24|1400       |\n",
      "+--------+----------+-----------+\n",
      "only showing top 10 rows\n",
      "\n"
     ]
    }
   ],
   "source": [
    "total_df.show(10, truncate=False)"
   ]
  },
  {
   "cell_type": "code",
   "execution_count": 13,
   "id": "e8a7df32-e9a6-4ea4-b6d1-36b8e2773c76",
   "metadata": {},
   "outputs": [],
   "source": [
    "# Генерируем позиции заказов и собираем их в массив\n",
    "items_df = df.groupBy(\"order_id\", \"menu_item\", \"price\") \\\n",
    "             .agg(count(\"*\").alias(\"quantity\")) \\\n",
    "             .groupBy(\"order_id\") \\\n",
    "             .agg(collect_list(struct(\"menu_item\", \"price\", \"quantity\")).alias(\"order_items\"))"
   ]
  },
  {
   "cell_type": "code",
   "execution_count": 47,
   "id": "c48ba6a0-324f-4d93-8b2a-8fed3eb9f1b8",
   "metadata": {},
   "outputs": [
    {
     "name": "stdout",
     "output_type": "stream",
     "text": [
      "+--------+-------------------------------------------------------------------------------------------------------------------+\n",
      "|order_id|order_items                                                                                                        |\n",
      "+--------+-------------------------------------------------------------------------------------------------------------------+\n",
      "|55566   |[{Chicken Salad, 300, 1}]                                                                                          |\n",
      "|55604   |[{Grilled ribs, 650, 1}, {Baked fish, 480, 1}, {Beefeater gin, 280, 1}, {Pasta, 550, 1}, {Classic lasagna, 500, 1}]|\n",
      "|55671   |[{Lula kebab, 260, 1}, {Apple juice, 110, 1}, {Pizza, 600, 1}]                                                     |\n",
      "|55700   |[{Classic lasagna, 500, 1}, {Chicken Salad, 300, 1}]                                                               |\n",
      "|55709   |[{Grilled vegetables, 290, 1}, {Burger, 350, 1}, {Beefeater gin, 280, 1}, {Pasta, 550, 1}]                         |\n",
      "|55715   |[{Beefeater gin, 280, 1}, {Sushi, 700, 1}, {Lula kebab, 260, 1}]                                                   |\n",
      "|55752   |[{Pizza, 600, 1}, {Grilled vegetables, 290, 1}, {Apple juice, 110, 1}]                                             |\n",
      "|55797   |[{Grilled ribs, 650, 1}, {Chicken soup, 320, 1}]                                                                   |\n",
      "|55813   |[{Classic lasagna, 500, 1}, {Beefeater gin, 280, 1}]                                                               |\n",
      "|55841   |[{Lula kebab, 260, 1}, {Lemon cake, 200, 1}, {Beer, 300, 1}, {Apple juice, 110, 1}]                                |\n",
      "+--------+-------------------------------------------------------------------------------------------------------------------+\n",
      "only showing top 10 rows\n",
      "\n"
     ]
    }
   ],
   "source": [
    "items_df.show(10, truncate=False)"
   ]
  },
  {
   "cell_type": "code",
   "execution_count": 14,
   "id": "8812167f-5045-4f64-a7af-72ed52416afb",
   "metadata": {},
   "outputs": [],
   "source": [
    "final_df = total_df.join(items_df, \"order_id\") \\\n",
    "                   .select(\"order_id\", \"date\", \"total_price\", \"order_items\")"
   ]
  },
  {
   "cell_type": "code",
   "execution_count": 50,
   "id": "9dbbc717-f15d-441d-a17f-e6b8d5f67086",
   "metadata": {},
   "outputs": [
    {
     "name": "stdout",
     "output_type": "stream",
     "text": [
      "+--------+----------+-----------+-------------------------------------------------------------------------------------------------------------------+\n",
      "|order_id|date      |total_price|order_items                                                                                                        |\n",
      "+--------+----------+-----------+-------------------------------------------------------------------------------------------------------------------+\n",
      "|55566   |2024-02-29|300        |[{Chicken Salad, 300, 1}]                                                                                          |\n",
      "|55604   |2024-01-30|2460       |[{Grilled ribs, 650, 1}, {Baked fish, 480, 1}, {Beefeater gin, 280, 1}, {Pasta, 550, 1}, {Classic lasagna, 500, 1}]|\n",
      "|55671   |2024-08-08|970        |[{Lula kebab, 260, 1}, {Apple juice, 110, 1}, {Pizza, 600, 1}]                                                     |\n",
      "|55700   |2024-01-29|800        |[{Classic lasagna, 500, 1}, {Chicken Salad, 300, 1}]                                                               |\n",
      "|55709   |2024-04-26|1470       |[{Grilled vegetables, 290, 1}, {Burger, 350, 1}, {Beefeater gin, 280, 1}, {Pasta, 550, 1}]                         |\n",
      "|55715   |2024-07-05|1240       |[{Beefeater gin, 280, 1}, {Sushi, 700, 1}, {Lula kebab, 260, 1}]                                                   |\n",
      "|55752   |2024-05-20|1000       |[{Pizza, 600, 1}, {Grilled vegetables, 290, 1}, {Apple juice, 110, 1}]                                             |\n",
      "|55797   |2024-09-19|970        |[{Grilled ribs, 650, 1}, {Chicken soup, 320, 1}]                                                                   |\n",
      "|55813   |2024-02-16|780        |[{Classic lasagna, 500, 1}, {Beefeater gin, 280, 1}]                                                               |\n",
      "|55841   |2024-04-04|870        |[{Lula kebab, 260, 1}, {Lemon cake, 200, 1}, {Beer, 300, 1}, {Apple juice, 110, 1}]                                |\n",
      "+--------+----------+-----------+-------------------------------------------------------------------------------------------------------------------+\n",
      "only showing top 10 rows\n",
      "\n"
     ]
    }
   ],
   "source": [
    "final_df.show(10, truncate=False)"
   ]
  },
  {
   "cell_type": "code",
   "execution_count": 15,
   "id": "c1cf1b98-f46b-41c2-b6a2-848730b0d384",
   "metadata": {},
   "outputs": [
    {
     "name": "stdout",
     "output_type": "stream",
     "text": [
      "3.3.1\n"
     ]
    }
   ],
   "source": [
    "import pyspark\n",
    "print(pyspark.__version__)"
   ]
  },
  {
   "cell_type": "code",
   "execution_count": 16,
   "id": "ccc4d894-72d2-45cb-b3fd-6a4c7494f423",
   "metadata": {},
   "outputs": [],
   "source": [
    "final_df.write \\\n",
    "        .format(\"mongodb\") \\\n",
    "        .mode(\"overwrite\") \\\n",
    "        .option('database', 'orderdb') \\\n",
    "        .option('collection', 'orders') \\\n",
    "        .save()"
   ]
  }
 ],
 "metadata": {
  "kernelspec": {
   "display_name": "pppppyspark",
   "language": "python",
   "name": "pppppyspark"
  },
  "language_info": {
   "codemirror_mode": {
    "name": "ipython",
    "version": 3
   },
   "file_extension": ".py",
   "mimetype": "text/x-python",
   "name": "python",
   "nbconvert_exporter": "python",
   "pygments_lexer": "ipython3",
   "version": "3.8.20"
  }
 },
 "nbformat": 4,
 "nbformat_minor": 5
}
